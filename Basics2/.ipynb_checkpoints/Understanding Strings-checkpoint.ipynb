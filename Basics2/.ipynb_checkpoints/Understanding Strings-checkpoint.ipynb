{
 "cells": [
  {
   "cell_type": "code",
   "execution_count": 1,
   "metadata": {},
   "outputs": [],
   "source": [
    "# STRINGS FUNCTIONS CAN ONLY BE APPLIED TO A SERIES AND NOT DTATAFRAME.\n",
    "# SO WE NEED TO SELECT ONLY ONE COLUMN ON WHICH WE NEED TO WORK ON\n",
    "import pandas as pd"
   ]
  },
  {
   "cell_type": "code",
   "execution_count": 2,
   "metadata": {},
   "outputs": [],
   "source": [
    "df = pd.read_csv('survey_results_public.csv')\n",
    "df.drop(['Unnamed: 0'], axis=1, inplace=True)"
   ]
  },
  {
   "cell_type": "code",
   "execution_count": 3,
   "metadata": {},
   "outputs": [
    {
     "data": {
      "text/plain": [
       "0                HTML/CSS;Java;JavaScript;Python\n",
       "1                            C++;HTML/CSS;Python\n",
       "2                                       HTML/CSS\n",
       "3                            C;C++;C#;Python;SQL\n",
       "4    C++;HTML/CSS;Java;JavaScript;Python;SQL;VBA\n",
       "Name: LanguageWorkedWith, dtype: object"
      ]
     },
     "execution_count": 3,
     "metadata": {},
     "output_type": "execute_result"
    },
    {
     "data": {
      "text/plain": [
       "0                HTML/CSS;Java;JavaScript;Python\n",
       "1                            C++;HTML/CSS;Python\n",
       "2                                       HTML/CSS\n",
       "3                            C;C++;C#;Python;SQL\n",
       "4    C++;HTML/CSS;Java;JavaScript;Python;SQL;VBA\n",
       "Name: LanguageWorkedWith, dtype: object"
      ]
     },
     "execution_count": 3,
     "metadata": {},
     "output_type": "execute_result"
    }
   ],
   "source": [
    "df['LanguageWorkedWith'].head()"
   ]
  },
  {
   "cell_type": "code",
   "execution_count": 4,
   "metadata": {},
   "outputs": [
    {
     "name": "stdout",
     "output_type": "stream",
     "text": [
      "0       True\n",
      "1       True\n",
      "2      False\n",
      "3       True\n",
      "4       True\n",
      "       ...  \n",
      "195    False\n",
      "196     True\n",
      "197    False\n",
      "198    False\n",
      "199     True\n",
      "Name: LanguageWorkedWith, Length: 200, dtype: bool\n",
      "\n",
      "Total Satisfied result: 96\n",
      "0       True\n",
      "1       True\n",
      "2      False\n",
      "3       True\n",
      "4       True\n",
      "       ...  \n",
      "195    False\n",
      "196     True\n",
      "197    False\n",
      "198    False\n",
      "199     True\n",
      "Name: LanguageWorkedWith, Length: 200, dtype: bool\n",
      "\n",
      "Total Satisfied result: 96\n"
     ]
    }
   ],
   "source": [
    "# Using contatins functions to test if value contains a given string. Returns True or False\n",
    "# Its always good to use na=False(or any other value) in order to account for NaN values else we might get an error.\n",
    "df_contains = df['LanguageWorkedWith'].str.contains('Python', na=False) # returns a series of True and False. True if condition is satisfied else its False\n",
    "print(df_contains)  # printing the True/false Series\n",
    "print()\n",
    "print('Total Satisfied result: ' + str(df.loc[df_contains, 'LanguageWorkedWith'].count())) # returning total count of row that satisfy the conditions."
   ]
  },
  {
   "cell_type": "code",
   "execution_count": 5,
   "metadata": {},
   "outputs": [
    {
     "name": "stdout",
     "output_type": "stream",
     "text": [
      "Upper()\n",
      "0                HTML/CSS;JAVA;JAVASCRIPT;PYTHON\n",
      "1                            C++;HTML/CSS;PYTHON\n",
      "2                                       HTML/CSS\n",
      "3                            C;C++;C#;PYTHON;SQL\n",
      "4    C++;HTML/CSS;JAVA;JAVASCRIPT;PYTHON;SQL;VBA\n",
      "Name: LanguageWorkedWith, dtype: object\n",
      "\n",
      "Lower()\n",
      "0                html/css;java;javascript;python\n",
      "1                            c++;html/css;python\n",
      "2                                       html/css\n",
      "3                            c;c++;c#;python;sql\n",
      "4    c++;html/css;java;javascript;python;sql;vba\n",
      "Name: LanguageWorkedWith, dtype: object\n",
      "\n",
      "Title()\n",
      "0                Html/Css;Java;Javascript;Python\n",
      "1                            C++;Html/Css;Python\n",
      "2                                       Html/Css\n",
      "3                            C;C++;C#;Python;Sql\n",
      "4    C++;Html/Css;Java;Javascript;Python;Sql;Vba\n",
      "Name: LanguageWorkedWith, dtype: object\n",
      "\n",
      "Upper()\n",
      "0                HTML/CSS;JAVA;JAVASCRIPT;PYTHON\n",
      "1                            C++;HTML/CSS;PYTHON\n",
      "2                                       HTML/CSS\n",
      "3                            C;C++;C#;PYTHON;SQL\n",
      "4    C++;HTML/CSS;JAVA;JAVASCRIPT;PYTHON;SQL;VBA\n",
      "Name: LanguageWorkedWith, dtype: object\n",
      "\n",
      "Lower()\n",
      "0                html/css;java;javascript;python\n",
      "1                            c++;html/css;python\n",
      "2                                       html/css\n",
      "3                            c;c++;c#;python;sql\n",
      "4    c++;html/css;java;javascript;python;sql;vba\n",
      "Name: LanguageWorkedWith, dtype: object\n",
      "\n",
      "Title()\n",
      "0                Html/Css;Java;Javascript;Python\n",
      "1                            C++;Html/Css;Python\n",
      "2                                       Html/Css\n",
      "3                            C;C++;C#;Python;Sql\n",
      "4    C++;Html/Css;Java;Javascript;Python;Sql;Vba\n",
      "Name: LanguageWorkedWith, dtype: object\n",
      "\n"
     ]
    }
   ],
   "source": [
    "# upper(): Converting all characters to upper case\n",
    "print('Upper()')\n",
    "print(df['LanguageWorkedWith'].str.upper().head())\n",
    "print()\n",
    "\n",
    "# lower(): Converting all characters to lower case\n",
    "print('Lower()')\n",
    "print(df['LanguageWorkedWith'].str.lower().head())\n",
    "print()\n",
    "\n",
    "# title(): Converting all characters to title case\n",
    "print('Title()')\n",
    "print(df['LanguageWorkedWith'].str.title().head())\n",
    "print()"
   ]
  },
  {
   "cell_type": "code",
   "execution_count": 6,
   "metadata": {},
   "outputs": [
    {
     "name": "stdout",
     "output_type": "stream",
     "text": [
      "len()\n",
      "0    31.0\n",
      "1    19.0\n",
      "2     8.0\n",
      "3    19.0\n",
      "4    43.0\n",
      "Name: LanguageWorkedWith, dtype: float64\n",
      "\n",
      "len()\n",
      "0    31.0\n",
      "1    19.0\n",
      "2     8.0\n",
      "3    19.0\n",
      "4    43.0\n",
      "Name: LanguageWorkedWith, dtype: float64\n",
      "\n"
     ]
    }
   ],
   "source": [
    "# len(): returns a series with length of the value\n",
    "print('len()')\n",
    "print(df['LanguageWorkedWith'].str.len().head())\n",
    "print()"
   ]
  },
  {
   "cell_type": "code",
   "execution_count": 7,
   "metadata": {},
   "outputs": [
    {
     "name": "stdout",
     "output_type": "stream",
     "text": [
      "strip()\n",
      "0                  ML/CSS;Java;JavaScript;Python\n",
      "1                            C++;HTML/CSS;Python\n",
      "2                                         ML/CSS\n",
      "3                            C;C++;C#;Python;SQL\n",
      "4    C++;HTML/CSS;Java;JavaScript;Python;SQL;VBA\n",
      "Name: LanguageWorkedWith, dtype: object\n",
      "\n",
      "lstrip()\n",
      "0                  ML/CSS;Java;JavaScript;Python\n",
      "1                            C++;HTML/CSS;Python\n",
      "2                                         ML/CSS\n",
      "3                            C;C++;C#;Python;SQL\n",
      "4    C++;HTML/CSS;Java;JavaScript;Python;SQL;VBA\n",
      "Name: LanguageWorkedWith, dtype: object\n",
      "\n",
      "rstrip()\n",
      "0                  HTML/CSS;Java;JavaScript;Pyth\n",
      "1                              C++;HTML/CSS;Pyth\n",
      "2                                       HTML/CSS\n",
      "3                            C;C++;C#;Python;SQL\n",
      "4    C++;HTML/CSS;Java;JavaScript;Python;SQL;VBA\n",
      "Name: LanguageWorkedWith, dtype: object\n",
      "\n",
      "strip()\n",
      "0                  ML/CSS;Java;JavaScript;Python\n",
      "1                            C++;HTML/CSS;Python\n",
      "2                                         ML/CSS\n",
      "3                            C;C++;C#;Python;SQL\n",
      "4    C++;HTML/CSS;Java;JavaScript;Python;SQL;VBA\n",
      "Name: LanguageWorkedWith, dtype: object\n",
      "\n",
      "lstrip()\n",
      "0                  ML/CSS;Java;JavaScript;Python\n",
      "1                            C++;HTML/CSS;Python\n",
      "2                                         ML/CSS\n",
      "3                            C;C++;C#;Python;SQL\n",
      "4    C++;HTML/CSS;Java;JavaScript;Python;SQL;VBA\n",
      "Name: LanguageWorkedWith, dtype: object\n",
      "\n",
      "rstrip()\n",
      "0                  HTML/CSS;Java;JavaScript;Pyth\n",
      "1                              C++;HTML/CSS;Pyth\n",
      "2                                       HTML/CSS\n",
      "3                            C;C++;C#;Python;SQL\n",
      "4    C++;HTML/CSS;Java;JavaScript;Python;SQL;VBA\n",
      "Name: LanguageWorkedWith, dtype: object\n",
      "\n"
     ]
    }
   ],
   "source": [
    "# strip(): Used to strip characters passd as an argument from starting and ending of string.\n",
    "# If nothing is passed as parameter the default value of ' ' is used.\n",
    "\n",
    "# strip()\n",
    "print('strip()')\n",
    "df['LanguageWorkedWith'].str.strip().head()  # removes spaces from left side of the value\n",
    "df_strip = df['LanguageWorkedWith'].str.strip('HT').head()  # removing 'HT' from left side of the value. Case-sensetive\n",
    "print(df_strip)\n",
    "print()\n",
    "\n",
    "# lstrip(): stripr from the starting of the string (left side)\n",
    "print('lstrip()')\n",
    "df['LanguageWorkedWith'].str.lstrip().head()  # removes spaces from right side of the value\n",
    "df_lstrip = df['LanguageWorkedWith'].str.lstrip('HT').head()  # removing 'HT' from right side of the value. Case-sensetive\n",
    "print(df_lstrip)\n",
    "print()\n",
    "\n",
    "# rstrip(): strips from the end of the string (right side)\n",
    "print('rstrip()')\n",
    "df['LanguageWorkedWith'].str.rstrip().head()  # removes spaces from right side of the value\n",
    "df_rstrip = df['LanguageWorkedWith'].str.rstrip('on').head()  # removing 'on' from right side of the value. Case-sensetive\n",
    "print(df_rstrip)\n",
    "print()\n",
    "\n"
   ]
  },
  {
   "cell_type": "code",
   "execution_count": 8,
   "metadata": {},
   "outputs": [
    {
     "data": {
      "text/plain": [
       "0                 [HTML/CSS, Java, JavaScript, Python]\n",
       "1                              [C++, HTML/CSS, Python]\n",
       "2                                           [HTML/CSS]\n",
       "3                            [C, C++, C#, Python, SQL]\n",
       "4    [C++, HTML/CSS, Java, JavaScript, Python, SQL,...\n",
       "Name: LanguageWorkedWith, dtype: object"
      ]
     },
     "execution_count": 8,
     "metadata": {},
     "output_type": "execute_result"
    },
    {
     "data": {
      "text/plain": [
       "0                 [HTML/CSS, Java, JavaScript, Python]\n",
       "1                              [C++, HTML/CSS, Python]\n",
       "2                                           [HTML/CSS]\n",
       "3                            [C, C++, C#, Python, SQL]\n",
       "4    [C++, HTML/CSS, Java, JavaScript, Python, SQL,...\n",
       "Name: LanguageWorkedWith, dtype: object"
      ]
     },
     "execution_count": 8,
     "metadata": {},
     "output_type": "execute_result"
    }
   ],
   "source": [
    "#SPLIT(): Using split function to split the value on ';' and getting a list of splitted item\n",
    "df_split = df['LanguageWorkedWith'].str.split(';')\n",
    "df_split.head()"
   ]
  },
  {
   "cell_type": "code",
   "execution_count": 9,
   "metadata": {},
   "outputs": [
    {
     "name": "stdout",
     "output_type": "stream",
     "text": [
      "0                   HTML/CSS\n",
      "1                        C++\n",
      "2                   HTML/CSS\n",
      "3                          C\n",
      "4                        C++\n",
      "               ...          \n",
      "195                 HTML/CSS\n",
      "196                 HTML/CSS\n",
      "197                        R\n",
      "198                     Java\n",
      "199    Bash/Shell/PowerShell\n",
      "Name: LanguageWorkedWith, Length: 200, dtype: object\n",
      "0            Java\n",
      "1        HTML/CSS\n",
      "2             NaN\n",
      "3             C++\n",
      "4        HTML/CSS\n",
      "          ...    \n",
      "195             R\n",
      "196          Java\n",
      "197           SQL\n",
      "198    JavaScript\n",
      "199            Go\n",
      "Name: LanguageWorkedWith, Length: 200, dtype: object\n",
      "0      NaN\n",
      "1      NaN\n",
      "2      NaN\n",
      "3      NaN\n",
      "4      NaN\n",
      "      ... \n",
      "195    NaN\n",
      "196    NaN\n",
      "197    NaN\n",
      "198    NaN\n",
      "199    NaN\n",
      "Name: LanguageWorkedWith, Length: 200, dtype: object\n",
      "0                   HTML/CSS\n",
      "1                        C++\n",
      "2                   HTML/CSS\n",
      "3                          C\n",
      "4                        C++\n",
      "               ...          \n",
      "195                 HTML/CSS\n",
      "196                 HTML/CSS\n",
      "197                        R\n",
      "198                     Java\n",
      "199    Bash/Shell/PowerShell\n",
      "Name: LanguageWorkedWith, Length: 200, dtype: object\n",
      "0            Java\n",
      "1        HTML/CSS\n",
      "2             NaN\n",
      "3             C++\n",
      "4        HTML/CSS\n",
      "          ...    \n",
      "195             R\n",
      "196          Java\n",
      "197           SQL\n",
      "198    JavaScript\n",
      "199            Go\n",
      "Name: LanguageWorkedWith, Length: 200, dtype: object\n",
      "0      NaN\n",
      "1      NaN\n",
      "2      NaN\n",
      "3      NaN\n",
      "4      NaN\n",
      "      ... \n",
      "195    NaN\n",
      "196    NaN\n",
      "197    NaN\n",
      "198    NaN\n",
      "199    NaN\n",
      "Name: LanguageWorkedWith, Length: 200, dtype: object\n"
     ]
    }
   ],
   "source": [
    "# SPLIT() cont.\n",
    "# We can access a given element from a list of every row. We cant use head90 in this case\n",
    "df_split_1 = df_split.str.get(0) # fetching 1st element of every value in a Series\n",
    "df_split_2 = df_split.str.get(1) # fetching 2nd element in the list of vleus in a series\n",
    "df_split_8 = df_split.str.get(8) # fetching 8th element in the list of vleus in a series. We get NAN if no value at that index is present in list\n",
    "print(df_split_1)\n",
    "print(df_split_2)\n",
    "print(df_split_8)"
   ]
  },
  {
   "cell_type": "code",
   "execution_count": 10,
   "metadata": {},
   "outputs": [
    {
     "name": "stdout",
     "output_type": "stream",
     "text": [
      "          0         1           2           3       4     5     6     7     8  \\\n",
      "0  HTML/CSS      Java  JavaScript      Python    None  None  None  None  None   \n",
      "1       C++  HTML/CSS      Python        None    None  None  None  None  None   \n",
      "2  HTML/CSS      None        None        None    None  None  None  None  None   \n",
      "3         C       C++          C#      Python     SQL  None  None  None  None   \n",
      "4       C++  HTML/CSS        Java  JavaScript  Python   SQL   VBA  None  None   \n",
      "\n",
      "      9    10    11    12    13    14  \n",
      "0  None  None  None  None  None  None  \n",
      "1  None  None  None  None  None  None  \n",
      "2  None  None  None  None  None  None  \n",
      "3  None  None  None  None  None  None  \n",
      "4  None  None  None  None  None  None  \n",
      "          0         1           2           3       4     5     6     7     8  \\\n",
      "0  HTML/CSS      Java  JavaScript      Python    None  None  None  None  None   \n",
      "1       C++  HTML/CSS      Python        None    None  None  None  None  None   \n",
      "2  HTML/CSS      None        None        None    None  None  None  None  None   \n",
      "3         C       C++          C#      Python     SQL  None  None  None  None   \n",
      "4       C++  HTML/CSS        Java  JavaScript  Python   SQL   VBA  None  None   \n",
      "\n",
      "      9    10    11    12    13    14  \n",
      "0  None  None  None  None  None  None  \n",
      "1  None  None  None  None  None  None  \n",
      "2  None  None  None  None  None  None  \n",
      "3  None  None  None  None  None  None  \n",
      "4  None  None  None  None  None  None  \n"
     ]
    }
   ],
   "source": [
    "# SPLIT() cont.\n",
    "#EXPAND=True : allows us to convert the Series of list into different columns\n",
    "\n",
    "df_split_expand = df['LanguageWorkedWith'].str.split(';', expand=True)\n",
    "print(df_split_expand.head())"
   ]
  },
  {
   "cell_type": "code",
   "execution_count": 11,
   "metadata": {},
   "outputs": [
    {
     "data": {
      "text/html": [
       "<div>\n",
       "<style scoped>\n",
       "    .dataframe tbody tr th:only-of-type {\n",
       "        vertical-align: middle;\n",
       "    }\n",
       "\n",
       "    .dataframe tbody tr th {\n",
       "        vertical-align: top;\n",
       "    }\n",
       "\n",
       "    .dataframe thead th {\n",
       "        text-align: right;\n",
       "    }\n",
       "</style>\n",
       "<table border=\"1\" class=\"dataframe\">\n",
       "  <thead>\n",
       "    <tr style=\"text-align: right;\">\n",
       "      <th></th>\n",
       "      <th>Respondent</th>\n",
       "      <th>LanguageWorkedWith</th>\n",
       "    </tr>\n",
       "  </thead>\n",
       "  <tbody>\n",
       "    <tr>\n",
       "      <td>51</td>\n",
       "      <td>52</td>\n",
       "      <td>Bash/Shell/PowerShell;C;C++;Elixir;Erlang;Go;H...</td>\n",
       "    </tr>\n",
       "  </tbody>\n",
       "</table>\n",
       "</div>"
      ],
      "text/plain": [
       "    Respondent                                 LanguageWorkedWith\n",
       "51          52  Bash/Shell/PowerShell;C;C++;Elixir;Erlang;Go;H..."
      ]
     },
     "execution_count": 11,
     "metadata": {},
     "output_type": "execute_result"
    },
    {
     "data": {
      "text/html": [
       "<div>\n",
       "<style scoped>\n",
       "    .dataframe tbody tr th:only-of-type {\n",
       "        vertical-align: middle;\n",
       "    }\n",
       "\n",
       "    .dataframe tbody tr th {\n",
       "        vertical-align: top;\n",
       "    }\n",
       "\n",
       "    .dataframe thead th {\n",
       "        text-align: right;\n",
       "    }\n",
       "</style>\n",
       "<table border=\"1\" class=\"dataframe\">\n",
       "  <thead>\n",
       "    <tr style=\"text-align: right;\">\n",
       "      <th></th>\n",
       "      <th>Respondent</th>\n",
       "      <th>LanguageWorkedWith</th>\n",
       "    </tr>\n",
       "  </thead>\n",
       "  <tbody>\n",
       "    <tr>\n",
       "      <td>51</td>\n",
       "      <td>52</td>\n",
       "      <td>Bash/Shell/PowerShell;C;C++;Elixir;Erlang;Go;H...</td>\n",
       "    </tr>\n",
       "  </tbody>\n",
       "</table>\n",
       "</div>"
      ],
      "text/plain": [
       "    Respondent                                 LanguageWorkedWith\n",
       "51          52  Bash/Shell/PowerShell;C;C++;Elixir;Erlang;Go;H..."
      ]
     },
     "execution_count": 11,
     "metadata": {},
     "output_type": "execute_result"
    }
   ],
   "source": [
    "# checking row that has 15 languages\n",
    "fltr = df_split_expand[14].notnull()\n",
    "df.loc[fltr, ['Respondent','LanguageWorkedWith']]"
   ]
  },
  {
   "cell_type": "code",
   "execution_count": 12,
   "metadata": {},
   "outputs": [
    {
     "data": {
      "text/plain": [
       "0                 [HTML/CSS, Java, JavaScript, Python]\n",
       "1                              [C++, HTML/CSS, Python]\n",
       "2                                           [HTML/CSS]\n",
       "3                            [C, C++, C#, Python, SQL]\n",
       "4    [C++, HTML/CSS, Java, JavaScript, Python;SQL;VBA]\n",
       "Name: LanguageWorkedWith, dtype: object"
      ]
     },
     "execution_count": 12,
     "metadata": {},
     "output_type": "execute_result"
    },
    {
     "data": {
      "text/plain": [
       "0                 [HTML/CSS, Java, JavaScript, Python]\n",
       "1                              [C++, HTML/CSS, Python]\n",
       "2                                           [HTML/CSS]\n",
       "3                            [C, C++, C#, Python, SQL]\n",
       "4    [C++, HTML/CSS, Java, JavaScript, Python;SQL;VBA]\n",
       "Name: LanguageWorkedWith, dtype: object"
      ]
     },
     "execution_count": 12,
     "metadata": {},
     "output_type": "execute_result"
    }
   ],
   "source": [
    "# STRIP() cont.\n",
    "# We can specify how many splits we want to have by using n=numberofslip\n",
    "\n",
    "df_split2 = df['LanguageWorkedWith'].str.split(';', n=2) # will cause split to happen 2 times producing 3 elements\n",
    "df_split4 = df['LanguageWorkedWith'].str.split(';', n=4) # will cause split 4 time to produce 5 elements\n",
    "df_split2.head()\n",
    "df_split4.head()"
   ]
  },
  {
   "cell_type": "code",
   "execution_count": 13,
   "metadata": {},
   "outputs": [
    {
     "data": {
      "text/html": [
       "<div>\n",
       "<style scoped>\n",
       "    .dataframe tbody tr th:only-of-type {\n",
       "        vertical-align: middle;\n",
       "    }\n",
       "\n",
       "    .dataframe tbody tr th {\n",
       "        vertical-align: top;\n",
       "    }\n",
       "\n",
       "    .dataframe thead th {\n",
       "        text-align: right;\n",
       "    }\n",
       "</style>\n",
       "<table border=\"1\" class=\"dataframe\">\n",
       "  <thead>\n",
       "    <tr style=\"text-align: right;\">\n",
       "      <th></th>\n",
       "      <th>0</th>\n",
       "      <th>1</th>\n",
       "      <th>2</th>\n",
       "      <th>3</th>\n",
       "      <th>4</th>\n",
       "    </tr>\n",
       "  </thead>\n",
       "  <tbody>\n",
       "    <tr>\n",
       "      <td>0</td>\n",
       "      <td>HTML/CSS</td>\n",
       "      <td>Java</td>\n",
       "      <td>JavaScript</td>\n",
       "      <td>Python</td>\n",
       "      <td>None</td>\n",
       "    </tr>\n",
       "    <tr>\n",
       "      <td>1</td>\n",
       "      <td>C++</td>\n",
       "      <td>HTML/CSS</td>\n",
       "      <td>Python</td>\n",
       "      <td>None</td>\n",
       "      <td>None</td>\n",
       "    </tr>\n",
       "    <tr>\n",
       "      <td>2</td>\n",
       "      <td>HTML/CSS</td>\n",
       "      <td>None</td>\n",
       "      <td>None</td>\n",
       "      <td>None</td>\n",
       "      <td>None</td>\n",
       "    </tr>\n",
       "    <tr>\n",
       "      <td>3</td>\n",
       "      <td>C</td>\n",
       "      <td>C++</td>\n",
       "      <td>C#</td>\n",
       "      <td>Python</td>\n",
       "      <td>SQL</td>\n",
       "    </tr>\n",
       "    <tr>\n",
       "      <td>4</td>\n",
       "      <td>C++</td>\n",
       "      <td>HTML/CSS</td>\n",
       "      <td>Java</td>\n",
       "      <td>JavaScript</td>\n",
       "      <td>Python;SQL;VBA</td>\n",
       "    </tr>\n",
       "    <tr>\n",
       "      <td>...</td>\n",
       "      <td>...</td>\n",
       "      <td>...</td>\n",
       "      <td>...</td>\n",
       "      <td>...</td>\n",
       "      <td>...</td>\n",
       "    </tr>\n",
       "    <tr>\n",
       "      <td>195</td>\n",
       "      <td>HTML/CSS</td>\n",
       "      <td>R</td>\n",
       "      <td>VBA</td>\n",
       "      <td>None</td>\n",
       "      <td>None</td>\n",
       "    </tr>\n",
       "    <tr>\n",
       "      <td>196</td>\n",
       "      <td>HTML/CSS</td>\n",
       "      <td>Java</td>\n",
       "      <td>JavaScript</td>\n",
       "      <td>Python</td>\n",
       "      <td>SQL</td>\n",
       "    </tr>\n",
       "    <tr>\n",
       "      <td>197</td>\n",
       "      <td>R</td>\n",
       "      <td>SQL</td>\n",
       "      <td>None</td>\n",
       "      <td>None</td>\n",
       "      <td>None</td>\n",
       "    </tr>\n",
       "    <tr>\n",
       "      <td>198</td>\n",
       "      <td>Java</td>\n",
       "      <td>JavaScript</td>\n",
       "      <td>SQL</td>\n",
       "      <td>VBA</td>\n",
       "      <td>None</td>\n",
       "    </tr>\n",
       "    <tr>\n",
       "      <td>199</td>\n",
       "      <td>Bash/Shell/PowerShell</td>\n",
       "      <td>Go</td>\n",
       "      <td>HTML/CSS</td>\n",
       "      <td>Java</td>\n",
       "      <td>JavaScript;Python;Scala</td>\n",
       "    </tr>\n",
       "  </tbody>\n",
       "</table>\n",
       "<p>200 rows × 5 columns</p>\n",
       "</div>"
      ],
      "text/plain": [
       "                         0           1           2           3  \\\n",
       "0                 HTML/CSS        Java  JavaScript      Python   \n",
       "1                      C++    HTML/CSS      Python        None   \n",
       "2                 HTML/CSS        None        None        None   \n",
       "3                        C         C++          C#      Python   \n",
       "4                      C++    HTML/CSS        Java  JavaScript   \n",
       "..                     ...         ...         ...         ...   \n",
       "195               HTML/CSS           R         VBA        None   \n",
       "196               HTML/CSS        Java  JavaScript      Python   \n",
       "197                      R         SQL        None        None   \n",
       "198                   Java  JavaScript         SQL         VBA   \n",
       "199  Bash/Shell/PowerShell          Go    HTML/CSS        Java   \n",
       "\n",
       "                           4  \n",
       "0                       None  \n",
       "1                       None  \n",
       "2                       None  \n",
       "3                        SQL  \n",
       "4             Python;SQL;VBA  \n",
       "..                       ...  \n",
       "195                     None  \n",
       "196                      SQL  \n",
       "197                     None  \n",
       "198                     None  \n",
       "199  JavaScript;Python;Scala  \n",
       "\n",
       "[200 rows x 5 columns]"
      ]
     },
     "execution_count": 13,
     "metadata": {},
     "output_type": "execute_result"
    },
    {
     "data": {
      "text/html": [
       "<div>\n",
       "<style scoped>\n",
       "    .dataframe tbody tr th:only-of-type {\n",
       "        vertical-align: middle;\n",
       "    }\n",
       "\n",
       "    .dataframe tbody tr th {\n",
       "        vertical-align: top;\n",
       "    }\n",
       "\n",
       "    .dataframe thead th {\n",
       "        text-align: right;\n",
       "    }\n",
       "</style>\n",
       "<table border=\"1\" class=\"dataframe\">\n",
       "  <thead>\n",
       "    <tr style=\"text-align: right;\">\n",
       "      <th></th>\n",
       "      <th>0</th>\n",
       "      <th>1</th>\n",
       "      <th>2</th>\n",
       "      <th>3</th>\n",
       "      <th>4</th>\n",
       "    </tr>\n",
       "  </thead>\n",
       "  <tbody>\n",
       "    <tr>\n",
       "      <td>0</td>\n",
       "      <td>HTML/CSS</td>\n",
       "      <td>Java</td>\n",
       "      <td>JavaScript</td>\n",
       "      <td>Python</td>\n",
       "      <td>None</td>\n",
       "    </tr>\n",
       "    <tr>\n",
       "      <td>1</td>\n",
       "      <td>C++</td>\n",
       "      <td>HTML/CSS</td>\n",
       "      <td>Python</td>\n",
       "      <td>None</td>\n",
       "      <td>None</td>\n",
       "    </tr>\n",
       "    <tr>\n",
       "      <td>2</td>\n",
       "      <td>HTML/CSS</td>\n",
       "      <td>None</td>\n",
       "      <td>None</td>\n",
       "      <td>None</td>\n",
       "      <td>None</td>\n",
       "    </tr>\n",
       "    <tr>\n",
       "      <td>3</td>\n",
       "      <td>C</td>\n",
       "      <td>C++</td>\n",
       "      <td>C#</td>\n",
       "      <td>Python</td>\n",
       "      <td>SQL</td>\n",
       "    </tr>\n",
       "    <tr>\n",
       "      <td>4</td>\n",
       "      <td>C++</td>\n",
       "      <td>HTML/CSS</td>\n",
       "      <td>Java</td>\n",
       "      <td>JavaScript</td>\n",
       "      <td>Python;SQL;VBA</td>\n",
       "    </tr>\n",
       "    <tr>\n",
       "      <td>...</td>\n",
       "      <td>...</td>\n",
       "      <td>...</td>\n",
       "      <td>...</td>\n",
       "      <td>...</td>\n",
       "      <td>...</td>\n",
       "    </tr>\n",
       "    <tr>\n",
       "      <td>195</td>\n",
       "      <td>HTML/CSS</td>\n",
       "      <td>R</td>\n",
       "      <td>VBA</td>\n",
       "      <td>None</td>\n",
       "      <td>None</td>\n",
       "    </tr>\n",
       "    <tr>\n",
       "      <td>196</td>\n",
       "      <td>HTML/CSS</td>\n",
       "      <td>Java</td>\n",
       "      <td>JavaScript</td>\n",
       "      <td>Python</td>\n",
       "      <td>SQL</td>\n",
       "    </tr>\n",
       "    <tr>\n",
       "      <td>197</td>\n",
       "      <td>R</td>\n",
       "      <td>SQL</td>\n",
       "      <td>None</td>\n",
       "      <td>None</td>\n",
       "      <td>None</td>\n",
       "    </tr>\n",
       "    <tr>\n",
       "      <td>198</td>\n",
       "      <td>Java</td>\n",
       "      <td>JavaScript</td>\n",
       "      <td>SQL</td>\n",
       "      <td>VBA</td>\n",
       "      <td>None</td>\n",
       "    </tr>\n",
       "    <tr>\n",
       "      <td>199</td>\n",
       "      <td>Bash/Shell/PowerShell</td>\n",
       "      <td>Go</td>\n",
       "      <td>HTML/CSS</td>\n",
       "      <td>Java</td>\n",
       "      <td>JavaScript;Python;Scala</td>\n",
       "    </tr>\n",
       "  </tbody>\n",
       "</table>\n",
       "<p>200 rows × 5 columns</p>\n",
       "</div>"
      ],
      "text/plain": [
       "                         0           1           2           3  \\\n",
       "0                 HTML/CSS        Java  JavaScript      Python   \n",
       "1                      C++    HTML/CSS      Python        None   \n",
       "2                 HTML/CSS        None        None        None   \n",
       "3                        C         C++          C#      Python   \n",
       "4                      C++    HTML/CSS        Java  JavaScript   \n",
       "..                     ...         ...         ...         ...   \n",
       "195               HTML/CSS           R         VBA        None   \n",
       "196               HTML/CSS        Java  JavaScript      Python   \n",
       "197                      R         SQL        None        None   \n",
       "198                   Java  JavaScript         SQL         VBA   \n",
       "199  Bash/Shell/PowerShell          Go    HTML/CSS        Java   \n",
       "\n",
       "                           4  \n",
       "0                       None  \n",
       "1                       None  \n",
       "2                       None  \n",
       "3                        SQL  \n",
       "4             Python;SQL;VBA  \n",
       "..                       ...  \n",
       "195                     None  \n",
       "196                      SQL  \n",
       "197                     None  \n",
       "198                     None  \n",
       "199  JavaScript;Python;Scala  \n",
       "\n",
       "[200 rows x 5 columns]"
      ]
     },
     "execution_count": 13,
     "metadata": {},
     "output_type": "execute_result"
    }
   ],
   "source": [
    "# STRIP() cont.\n",
    "# we can combine expand and n to produce a dataframe\n",
    "df_combined = df['LanguageWorkedWith'].str.split(';', expand=True, n=4)\n",
    "df_combined"
   ]
  },
  {
   "cell_type": "code",
   "execution_count": 14,
   "metadata": {},
   "outputs": [
    {
     "data": {
      "text/plain": [
       "0    JavaScript\n",
       "1        Python\n",
       "2          None\n",
       "3            C#\n",
       "4          Java\n",
       "5           SQL\n",
       "6          None\n",
       "7           C++\n",
       "8      HTML/CSS\n",
       "9    JavaScript\n",
       "Name: 2, dtype: object"
      ]
     },
     "execution_count": 14,
     "metadata": {},
     "output_type": "execute_result"
    },
    {
     "data": {
      "text/plain": [
       "0    JavaScript\n",
       "1        Python\n",
       "2          None\n",
       "3            C#\n",
       "4          Java\n",
       "5           SQL\n",
       "6          None\n",
       "7           C++\n",
       "8      HTML/CSS\n",
       "9    JavaScript\n",
       "Name: 2, dtype: object"
      ]
     },
     "execution_count": 14,
     "metadata": {},
     "output_type": "execute_result"
    }
   ],
   "source": [
    "df_test = df_combined[2].head(10)\n",
    "df_test"
   ]
  },
  {
   "cell_type": "code",
   "execution_count": 15,
   "metadata": {},
   "outputs": [
    {
     "name": "stdout",
     "output_type": "stream",
     "text": [
      "JavaScript;Python;C#;Java;SQL;C++;HTML/CSS;JavaScript\n",
      "\n",
      "JavaScriptPythonC#JavaSQLC++HTML/CSSJavaScript\n",
      "\n",
      "JavaScript;Python;C#;Java;SQL;C++;HTML/CSS;JavaScript\n",
      "\n",
      "JavaScriptPythonC#JavaSQLC++HTML/CSSJavaScript\n",
      "\n"
     ]
    }
   ],
   "source": [
    "# CONCATENATION\n",
    "df_A = df_test.str.cat(sep=';')  # concatenating series into a single string separated by ;\n",
    "print(df_A)\n",
    "print()\n",
    "df_B = df_test.str.cat()\n",
    "print(df_B)\n",
    "print()"
   ]
  },
  {
   "cell_type": "code",
   "execution_count": 16,
   "metadata": {},
   "outputs": [
    {
     "data": {
      "text/plain": [
       "0                 HTML/CSS; JavaScript\n",
       "1                          C++; Python\n",
       "2                                  NaN\n",
       "3                                C; C#\n",
       "4                            C++; Java\n",
       "                    ...               \n",
       "195                      HTML/CSS; VBA\n",
       "196               HTML/CSS; JavaScript\n",
       "197                                NaN\n",
       "198                          Java; SQL\n",
       "199    Bash/Shell/PowerShell; HTML/CSS\n",
       "Length: 200, dtype: object"
      ]
     },
     "execution_count": 16,
     "metadata": {},
     "output_type": "execute_result"
    },
    {
     "data": {
      "text/plain": [
       "0                 HTML/CSS; JavaScript\n",
       "1                          C++; Python\n",
       "2                                  NaN\n",
       "3                                C; C#\n",
       "4                            C++; Java\n",
       "                    ...               \n",
       "195                      HTML/CSS; VBA\n",
       "196               HTML/CSS; JavaScript\n",
       "197                                NaN\n",
       "198                          Java; SQL\n",
       "199    Bash/Shell/PowerShell; HTML/CSS\n",
       "Length: 200, dtype: object"
      ]
     },
     "execution_count": 16,
     "metadata": {},
     "output_type": "execute_result"
    }
   ],
   "source": [
    "# Concatenating column 0 and 1 to form a new column\n",
    "df_combined_12 = df_combined[0] + '; ' + df_combined[2]\n",
    "df_combined_12"
   ]
  },
  {
   "cell_type": "code",
   "execution_count": 17,
   "metadata": {},
   "outputs": [
    {
     "data": {
      "text/plain": [
       "0                HTML/CSS;Java;Javascript;Python\n",
       "1                            C++;HTML/CSS;Python\n",
       "2                                       HTML/CSS\n",
       "3                            C;C++;C#;Python;SQL\n",
       "4    C++;HTML/CSS;Java;Javascript;Python;SQL;VBA\n",
       "Name: LanguageWorkedWith, dtype: object"
      ]
     },
     "execution_count": 17,
     "metadata": {},
     "output_type": "execute_result"
    },
    {
     "data": {
      "text/plain": [
       "0                HTML/CSS;Java;Javascript;Python\n",
       "1                            C++;HTML/CSS;Python\n",
       "2                                       HTML/CSS\n",
       "3                            C;C++;C#;Python;SQL\n",
       "4    C++;HTML/CSS;Java;Javascript;Python;SQL;VBA\n",
       "Name: LanguageWorkedWith, dtype: object"
      ]
     },
     "execution_count": 17,
     "metadata": {},
     "output_type": "execute_result"
    }
   ],
   "source": [
    "# REPLACE()\n",
    "df_rep = df['LanguageWorkedWith'].str.replace('JavaScript', 'Javascript')\n",
    "df_rep.head()"
   ]
  },
  {
   "cell_type": "code",
   "execution_count": 18,
   "metadata": {},
   "outputs": [
    {
     "data": {
      "text/plain": [
       "0    ML/\n",
       "1    +;H\n",
       "2    ML/\n",
       "3    C++\n",
       "4    +;H\n",
       "Name: LanguageWorkedWith, dtype: object"
      ]
     },
     "execution_count": 18,
     "metadata": {},
     "output_type": "execute_result"
    },
    {
     "data": {
      "text/plain": [
       "0    ML/\n",
       "1    +;H\n",
       "2    ML/\n",
       "3    C++\n",
       "4    +;H\n",
       "Name: LanguageWorkedWith, dtype: object"
      ]
     },
     "execution_count": 18,
     "metadata": {},
     "output_type": "execute_result"
    }
   ],
   "source": [
    "# SLICE\n",
    "# this function is used to slice the string in a Series. \n",
    "df_slice = df['LanguageWorkedWith'].str.slice(start=2, stop=5)\n",
    "df_slice.head()"
   ]
  },
  {
   "cell_type": "code",
   "execution_count": 19,
   "metadata": {},
   "outputs": [
    {
     "data": {
      "text/plain": [
       "0                HTML/CSS;Java;JavaScript;Python\n",
       "1                            C++;HTML/CSS;Python\n",
       "2                                       HTML/CSS\n",
       "3                            C;C++;C#;Python;SQL\n",
       "4    C++;HTML/CSS;Java;JavaScript;Python;SQL;VBA\n",
       "Name: LanguageWorkedWith, dtype: object"
      ]
     },
     "execution_count": 19,
     "metadata": {},
     "output_type": "execute_result"
    },
    {
     "data": {
      "text/plain": [
       "0                HTML/CSS;Java;JavaScript;Python\n",
       "1                            C++;HTML/CSS;Python\n",
       "2                                       HTML/CSS\n",
       "3                            C;C++;C#;Python;SQL\n",
       "4    C++;HTML/CSS;Java;JavaScript;Python;SQL;VBA\n",
       "Name: LanguageWorkedWith, dtype: object"
      ]
     },
     "execution_count": 19,
     "metadata": {},
     "output_type": "execute_result"
    }
   ],
   "source": [
    "# SLICE cont.\n",
    "df_slice = df['LanguageWorkedWith'].str.slice(start=0) # returns everything as it tsrats with index 0\n",
    "df_slice.head()"
   ]
  },
  {
   "cell_type": "code",
   "execution_count": 20,
   "metadata": {},
   "outputs": [
    {
     "data": {
      "text/plain": [
       "0    HM/S;\n",
       "1    C+HM/\n",
       "2     HM/S\n",
       "3    CC+C;\n",
       "4    C+HM/\n",
       "Name: LanguageWorkedWith, dtype: object"
      ]
     },
     "execution_count": 20,
     "metadata": {},
     "output_type": "execute_result"
    },
    {
     "data": {
      "text/plain": [
       "0    HM/S;\n",
       "1    C+HM/\n",
       "2     HM/S\n",
       "3    CC+C;\n",
       "4    C+HM/\n",
       "Name: LanguageWorkedWith, dtype: object"
      ]
     },
     "execution_count": 20,
     "metadata": {},
     "output_type": "execute_result"
    }
   ],
   "source": [
    "df_slice = df['LanguageWorkedWith'].str.slice(start=0, stop=10, step=2) # start at index 0 and ends at index 9 with step of 2\n",
    "df_slice.head()"
   ]
  },
  {
   "cell_type": "code",
   "execution_count": 21,
   "metadata": {},
   "outputs": [
    {
     "data": {
      "text/plain": [
       "0    HM/S;\n",
       "1    C+HM/\n",
       "2     HM/S\n",
       "3    CC+C;\n",
       "4    C+HM/\n",
       "Name: LanguageWorkedWith, dtype: object"
      ]
     },
     "execution_count": 21,
     "metadata": {},
     "output_type": "execute_result"
    },
    {
     "data": {
      "text/plain": [
       "0    HM/S;\n",
       "1    C+HM/\n",
       "2     HM/S\n",
       "3    CC+C;\n",
       "4    C+HM/\n",
       "Name: LanguageWorkedWith, dtype: object"
      ]
     },
     "execution_count": 21,
     "metadata": {},
     "output_type": "execute_result"
    }
   ],
   "source": [
    "df_slice = df['LanguageWorkedWith'].str[0:10:2] # produces same results as above\n",
    "df_slice.head()"
   ]
  },
  {
   "cell_type": "code",
   "execution_count": 22,
   "metadata": {},
   "outputs": [
    {
     "data": {
      "text/plain": [
       "0                HT--X--ava;JavaScript;Python\n",
       "1                            C+--X--SS;Python\n",
       "2                                     HT--X--\n",
       "3                            C;--X--ython;SQL\n",
       "4    C+--X--SS;Java;JavaScript;Python;SQL;VBA\n",
       "Name: LanguageWorkedWith, dtype: object"
      ]
     },
     "execution_count": 22,
     "metadata": {},
     "output_type": "execute_result"
    },
    {
     "data": {
      "text/plain": [
       "0                HT--X--ava;JavaScript;Python\n",
       "1                            C+--X--SS;Python\n",
       "2                                     HT--X--\n",
       "3                            C;--X--ython;SQL\n",
       "4    C+--X--SS;Java;JavaScript;Python;SQL;VBA\n",
       "Name: LanguageWorkedWith, dtype: object"
      ]
     },
     "execution_count": 22,
     "metadata": {},
     "output_type": "execute_result"
    }
   ],
   "source": [
    "# SLICE_REPLACE : selects a part of string and the replaces it.\n",
    "df_sr = df['LanguageWorkedWith'].str.slice_replace(start=2, stop=10, repl='-X-') # replace elements between index 2 and 9 with string '-X-'\n",
    "df_sr.head()"
   ]
  },
  {
   "cell_type": "code",
   "execution_count": 25,
   "metadata": {},
   "outputs": [
    {
     "data": {
      "text/plain": [
       "0    HTM-X-\n",
       "1    C++-X-\n",
       "2    HTM-X-\n",
       "3    C;C-X-\n",
       "4    C++-X-\n",
       "Name: LanguageWorkedWith, dtype: object"
      ]
     },
     "execution_count": 25,
     "metadata": {},
     "output_type": "execute_result"
    },
    {
     "data": {
      "text/plain": [
       "0    HTM-X-\n",
       "1    C++-X-\n",
       "2    HTM-X-\n",
       "3    C;C-X-\n",
       "4    C++-X-\n",
       "Name: LanguageWorkedWith, dtype: object"
      ]
     },
     "execution_count": 25,
     "metadata": {},
     "output_type": "execute_result"
    }
   ],
   "source": [
    "df_sr = df['LanguageWorkedWith'].str.slice_replace(start=3, repl='-X-') # replcae entire string after index 3 with '-X-'\n",
    "df_sr.head()"
   ]
  },
  {
   "cell_type": "code",
   "execution_count": 27,
   "metadata": {},
   "outputs": [
    {
     "data": {
      "text/plain": [
       "0    HTM-X-HTM-X-HTM-X-\n",
       "1    C++-X-C++-X-C++-X-\n",
       "2    HTM-X-HTM-X-HTM-X-\n",
       "3    C;C-X-C;C-X-C;C-X-\n",
       "Name: LanguageWorkedWith, dtype: object"
      ]
     },
     "execution_count": 27,
     "metadata": {},
     "output_type": "execute_result"
    },
    {
     "data": {
      "text/plain": [
       "0    HTM-X-HTM-X-HTM-X-\n",
       "1    C++-X-C++-X-C++-X-\n",
       "2    HTM-X-HTM-X-HTM-X-\n",
       "3    C;C-X-C;C-X-C;C-X-\n",
       "Name: LanguageWorkedWith, dtype: object"
      ]
     },
     "execution_count": 27,
     "metadata": {},
     "output_type": "execute_result"
    }
   ],
   "source": [
    "# REPEAT\n",
    "df_rpt = df_sr.str.repeat(3)  # repeats the string 3 times\n",
    "df_rpt.head(4)"
   ]
  },
  {
   "cell_type": "code",
   "execution_count": 28,
   "metadata": {},
   "outputs": [
    {
     "data": {
      "text/plain": [
       "0    html/css;jAVA;jAVAsCRIPT;pYTHON\n",
       "1                c++;html/css;pYTHON\n",
       "2                           html/css\n",
       "3                c;c++;c#;pYTHON;sql\n",
       "Name: LanguageWorkedWith, dtype: object"
      ]
     },
     "execution_count": 28,
     "metadata": {},
     "output_type": "execute_result"
    },
    {
     "data": {
      "text/plain": [
       "0    html/css;jAVA;jAVAsCRIPT;pYTHON\n",
       "1                c++;html/css;pYTHON\n",
       "2                           html/css\n",
       "3                c;c++;c#;pYTHON;sql\n",
       "Name: LanguageWorkedWith, dtype: object"
      ]
     },
     "execution_count": 28,
     "metadata": {},
     "output_type": "execute_result"
    }
   ],
   "source": [
    "#swapcase(): swaps case of string\n",
    "df_sc = df['LanguageWorkedWith'].str.swapcase()\n",
    "df_sc.head(4)"
   ]
  },
  {
   "cell_type": "code",
   "execution_count": null,
   "metadata": {},
   "outputs": [],
   "source": []
  }
 ],
 "metadata": {
  "kernelspec": {
   "display_name": "Python 3",
   "language": "python",
   "name": "python3"
  },
  "language_info": {
   "codemirror_mode": {
    "name": "ipython",
    "version": 3
   },
   "file_extension": ".py",
   "mimetype": "text/x-python",
   "name": "python",
   "nbconvert_exporter": "python",
   "pygments_lexer": "ipython3",
   "version": "3.7.4"
  }
 },
 "nbformat": 4,
 "nbformat_minor": 2
}
