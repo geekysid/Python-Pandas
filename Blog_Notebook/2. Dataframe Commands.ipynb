{
 "cells": [
  {
   "cell_type": "code",
   "execution_count": 1,
   "metadata": {},
   "outputs": [
    {
     "data": {
      "text/html": [
       "<div>\n",
       "<style scoped>\n",
       "    .dataframe tbody tr th:only-of-type {\n",
       "        vertical-align: middle;\n",
       "    }\n",
       "\n",
       "    .dataframe tbody tr th {\n",
       "        vertical-align: top;\n",
       "    }\n",
       "\n",
       "    .dataframe thead th {\n",
       "        text-align: right;\n",
       "    }\n",
       "</style>\n",
       "<table border=\"1\" class=\"dataframe\">\n",
       "  <thead>\n",
       "    <tr style=\"text-align: right;\">\n",
       "      <th></th>\n",
       "      <th>fname</th>\n",
       "      <th>lname</th>\n",
       "      <th>age</th>\n",
       "      <th>score</th>\n",
       "      <th>email</th>\n",
       "    </tr>\n",
       "  </thead>\n",
       "  <tbody>\n",
       "    <tr>\n",
       "      <td>0</td>\n",
       "      <td>Siddhant</td>\n",
       "      <td>Shah</td>\n",
       "      <td>32</td>\n",
       "      <td>9.1</td>\n",
       "      <td>sid@panda.com</td>\n",
       "    </tr>\n",
       "    <tr>\n",
       "      <td>1</td>\n",
       "      <td>Manish</td>\n",
       "      <td>Jha</td>\n",
       "      <td>32</td>\n",
       "      <td>8.7</td>\n",
       "      <td>man@panda.com</td>\n",
       "    </tr>\n",
       "    <tr>\n",
       "      <td>2</td>\n",
       "      <td>Kanai</td>\n",
       "      <td>Murmu</td>\n",
       "      <td>30</td>\n",
       "      <td>8.9</td>\n",
       "      <td>kan@panda.com</td>\n",
       "    </tr>\n",
       "    <tr>\n",
       "      <td>3</td>\n",
       "      <td>Ram</td>\n",
       "      <td>Jana</td>\n",
       "      <td>33</td>\n",
       "      <td>9.6</td>\n",
       "      <td>ram@panda.com</td>\n",
       "    </tr>\n",
       "  </tbody>\n",
       "</table>\n",
       "</div>"
      ],
      "text/plain": [
       "      fname  lname  age  score          email\n",
       "0  Siddhant   Shah   32    9.1  sid@panda.com\n",
       "1    Manish    Jha   32    8.7  man@panda.com\n",
       "2     Kanai  Murmu   30    8.9  kan@panda.com\n",
       "3       Ram   Jana   33    9.6  ram@panda.com"
      ]
     },
     "execution_count": 1,
     "metadata": {},
     "output_type": "execute_result"
    }
   ],
   "source": [
    "import pandas as pd\n",
    "\n",
    "# Dictionary we will work on\n",
    "myDict = {\"fname\": [\"Siddhant\", \"Manish\", \"Kanai\", \"Ram\"],\n",
    "         \"lname\": [\"Shah\", \"Jha\", \"Murmu\", \"Jana\"],\n",
    "         \"age\": [32, 32, 30, 33],\n",
    "         \"score\": [9.1, 8.7, 8.9, 9.6],\n",
    "         \"email\": [\"sid@panda.com\", \"man@panda.com\", \"kan@panda.com\", \"ram@panda.com\"]}\n",
    "\n",
    "# creating dataframe\n",
    "df = pd.DataFrame.from_dict(data=myDict)\n",
    "df"
   ]
  },
  {
   "cell_type": "code",
   "execution_count": 2,
   "metadata": {},
   "outputs": [
    {
     "data": {
      "text/plain": [
       "(4, 5)"
      ]
     },
     "execution_count": 2,
     "metadata": {},
     "output_type": "execute_result"
    }
   ],
   "source": [
    "# shape: this method returns a tupple of two elements. \n",
    "# 1st element is the number of rows and 2nd element is the number of columns dataframe has.\n",
    "df.shape"
   ]
  },
  {
   "cell_type": "code",
   "execution_count": 3,
   "metadata": {},
   "outputs": [],
   "source": [
    "# We will find some of the command of dataframe ends with parenthese and some dosen't. \n",
    "# As we know that dataframe is a class in panda, so it has some attributes and some methods. \n",
    "\n",
    "# Methods are actionable commands which might need some value passed to them to do some task \n",
    "# and so they have parenthese at end. \n",
    "\n",
    "# Attributes on the other hand just provide information about the object and it doesnt need \n",
    "# any value passed to them. So there is no requirement of parenthese at the end of them."
   ]
  },
  {
   "cell_type": "code",
   "execution_count": 4,
   "metadata": {},
   "outputs": [
    {
     "data": {
      "text/plain": [
       "20"
      ]
     },
     "execution_count": 4,
     "metadata": {},
     "output_type": "execute_result"
    }
   ],
   "source": [
    "# size: this attributes provide total numbe of elements (excluding NAN) in the dataframe.\n",
    "df.size"
   ]
  },
  {
   "cell_type": "code",
   "execution_count": 5,
   "metadata": {},
   "outputs": [
    {
     "data": {
      "text/plain": [
       "fname     object\n",
       "lname     object\n",
       "age        int64\n",
       "score    float64\n",
       "email     object\n",
       "dtype: object"
      ]
     },
     "execution_count": 5,
     "metadata": {},
     "output_type": "execute_result"
    }
   ],
   "source": [
    "# dtypes: This atribute provides a series where keys are the column names of the dataframe and values are\n",
    "# the datatypes of the columns. If more then one datatype the it will be treated as a object datatype.\n",
    "df.dtypes"
   ]
  },
  {
   "cell_type": "code",
   "execution_count": 6,
   "metadata": {},
   "outputs": [
    {
     "data": {
      "text/plain": [
       "2"
      ]
     },
     "execution_count": 6,
     "metadata": {},
     "output_type": "execute_result"
    }
   ],
   "source": [
    "#  ndim: This attribute provides dimension of the the panda datastructure. For Series it return 1 \n",
    "# and for Dataframe it returns 2\n",
    "df.ndim"
   ]
  },
  {
   "cell_type": "code",
   "execution_count": 7,
   "metadata": {},
   "outputs": [
    {
     "data": {
      "text/plain": [
       "False"
      ]
     },
     "execution_count": 7,
     "metadata": {},
     "output_type": "execute_result"
    }
   ],
   "source": [
    "# empty: this attribute return True if dataset is empty else retuns false\n",
    "df.empty"
   ]
  },
  {
   "cell_type": "code",
   "execution_count": 8,
   "metadata": {},
   "outputs": [
    {
     "data": {
      "text/plain": [
       "Index(['fname', 'lname', 'age', 'score', 'email'], dtype='object')"
      ]
     },
     "execution_count": 8,
     "metadata": {},
     "output_type": "execute_result"
    }
   ],
   "source": [
    "# columns: This attribute retuns list of all column name in a dataframe\n",
    "df.columns"
   ]
  },
  {
   "cell_type": "code",
   "execution_count": 9,
   "metadata": {},
   "outputs": [
    {
     "data": {
      "text/html": [
       "<div>\n",
       "<style scoped>\n",
       "    .dataframe tbody tr th:only-of-type {\n",
       "        vertical-align: middle;\n",
       "    }\n",
       "\n",
       "    .dataframe tbody tr th {\n",
       "        vertical-align: top;\n",
       "    }\n",
       "\n",
       "    .dataframe thead th {\n",
       "        text-align: right;\n",
       "    }\n",
       "</style>\n",
       "<table border=\"1\" class=\"dataframe\">\n",
       "  <thead>\n",
       "    <tr style=\"text-align: right;\">\n",
       "      <th></th>\n",
       "      <th>0</th>\n",
       "      <th>1</th>\n",
       "      <th>2</th>\n",
       "      <th>3</th>\n",
       "    </tr>\n",
       "  </thead>\n",
       "  <tbody>\n",
       "    <tr>\n",
       "      <td>fname</td>\n",
       "      <td>Siddhant</td>\n",
       "      <td>Manish</td>\n",
       "      <td>Kanai</td>\n",
       "      <td>Ram</td>\n",
       "    </tr>\n",
       "    <tr>\n",
       "      <td>lname</td>\n",
       "      <td>Shah</td>\n",
       "      <td>Jha</td>\n",
       "      <td>Murmu</td>\n",
       "      <td>Jana</td>\n",
       "    </tr>\n",
       "    <tr>\n",
       "      <td>age</td>\n",
       "      <td>32</td>\n",
       "      <td>32</td>\n",
       "      <td>30</td>\n",
       "      <td>33</td>\n",
       "    </tr>\n",
       "    <tr>\n",
       "      <td>score</td>\n",
       "      <td>9.1</td>\n",
       "      <td>8.7</td>\n",
       "      <td>8.9</td>\n",
       "      <td>9.6</td>\n",
       "    </tr>\n",
       "    <tr>\n",
       "      <td>email</td>\n",
       "      <td>sid@panda.com</td>\n",
       "      <td>man@panda.com</td>\n",
       "      <td>kan@panda.com</td>\n",
       "      <td>ram@panda.com</td>\n",
       "    </tr>\n",
       "  </tbody>\n",
       "</table>\n",
       "</div>"
      ],
      "text/plain": [
       "                   0              1              2              3\n",
       "fname       Siddhant         Manish          Kanai            Ram\n",
       "lname           Shah            Jha          Murmu           Jana\n",
       "age               32             32             30             33\n",
       "score            9.1            8.7            8.9            9.6\n",
       "email  sid@panda.com  man@panda.com  kan@panda.com  ram@panda.com"
      ]
     },
     "execution_count": 9,
     "metadata": {},
     "output_type": "execute_result"
    }
   ],
   "source": [
    "# T: This attribute transponse a current dataframe and returns a new one with columns and rows \n",
    "# getting interchanged \n",
    "df.T"
   ]
  },
  {
   "cell_type": "code",
   "execution_count": 10,
   "metadata": {
    "scrolled": false
   },
   "outputs": [
    {
     "data": {
      "text/html": [
       "<div>\n",
       "<style scoped>\n",
       "    .dataframe tbody tr th:only-of-type {\n",
       "        vertical-align: middle;\n",
       "    }\n",
       "\n",
       "    .dataframe tbody tr th {\n",
       "        vertical-align: top;\n",
       "    }\n",
       "\n",
       "    .dataframe thead th {\n",
       "        text-align: right;\n",
       "    }\n",
       "</style>\n",
       "<table border=\"1\" class=\"dataframe\">\n",
       "  <thead>\n",
       "    <tr style=\"text-align: right;\">\n",
       "      <th></th>\n",
       "      <th>fname</th>\n",
       "      <th>lname</th>\n",
       "      <th>age</th>\n",
       "      <th>score</th>\n",
       "      <th>email</th>\n",
       "    </tr>\n",
       "  </thead>\n",
       "  <tbody>\n",
       "    <tr>\n",
       "      <td>0</td>\n",
       "      <td>Siddhant</td>\n",
       "      <td>Shah</td>\n",
       "      <td>32</td>\n",
       "      <td>9.1</td>\n",
       "      <td>sid@panda.com</td>\n",
       "    </tr>\n",
       "    <tr>\n",
       "      <td>1</td>\n",
       "      <td>Manish</td>\n",
       "      <td>Jha</td>\n",
       "      <td>32</td>\n",
       "      <td>8.7</td>\n",
       "      <td>man@panda.com</td>\n",
       "    </tr>\n",
       "    <tr>\n",
       "      <td>2</td>\n",
       "      <td>Kanai</td>\n",
       "      <td>Murmu</td>\n",
       "      <td>30</td>\n",
       "      <td>8.9</td>\n",
       "      <td>kan@panda.com</td>\n",
       "    </tr>\n",
       "    <tr>\n",
       "      <td>3</td>\n",
       "      <td>Ram</td>\n",
       "      <td>Jana</td>\n",
       "      <td>33</td>\n",
       "      <td>9.6</td>\n",
       "      <td>ram@panda.com</td>\n",
       "    </tr>\n",
       "  </tbody>\n",
       "</table>\n",
       "</div>"
      ],
      "text/plain": [
       "      fname  lname  age  score          email\n",
       "0  Siddhant   Shah   32    9.1  sid@panda.com\n",
       "1    Manish    Jha   32    8.7  man@panda.com\n",
       "2     Kanai  Murmu   30    8.9  kan@panda.com\n",
       "3       Ram   Jana   33    9.6  ram@panda.com"
      ]
     },
     "execution_count": 10,
     "metadata": {},
     "output_type": "execute_result"
    }
   ],
   "source": [
    "# head(n): This method accepts a number and returns that number of top rows from dataframe. \n",
    "# Default number is 5\n",
    "df.head(4)"
   ]
  },
  {
   "cell_type": "code",
   "execution_count": 11,
   "metadata": {},
   "outputs": [
    {
     "data": {
      "text/html": [
       "<div>\n",
       "<style scoped>\n",
       "    .dataframe tbody tr th:only-of-type {\n",
       "        vertical-align: middle;\n",
       "    }\n",
       "\n",
       "    .dataframe tbody tr th {\n",
       "        vertical-align: top;\n",
       "    }\n",
       "\n",
       "    .dataframe thead th {\n",
       "        text-align: right;\n",
       "    }\n",
       "</style>\n",
       "<table border=\"1\" class=\"dataframe\">\n",
       "  <thead>\n",
       "    <tr style=\"text-align: right;\">\n",
       "      <th></th>\n",
       "      <th>fname</th>\n",
       "      <th>lname</th>\n",
       "      <th>age</th>\n",
       "      <th>score</th>\n",
       "      <th>email</th>\n",
       "    </tr>\n",
       "  </thead>\n",
       "  <tbody>\n",
       "    <tr>\n",
       "      <td>0</td>\n",
       "      <td>Siddhant</td>\n",
       "      <td>Shah</td>\n",
       "      <td>32</td>\n",
       "      <td>9.1</td>\n",
       "      <td>sid@panda.com</td>\n",
       "    </tr>\n",
       "    <tr>\n",
       "      <td>1</td>\n",
       "      <td>Manish</td>\n",
       "      <td>Jha</td>\n",
       "      <td>32</td>\n",
       "      <td>8.7</td>\n",
       "      <td>man@panda.com</td>\n",
       "    </tr>\n",
       "    <tr>\n",
       "      <td>2</td>\n",
       "      <td>Kanai</td>\n",
       "      <td>Murmu</td>\n",
       "      <td>30</td>\n",
       "      <td>8.9</td>\n",
       "      <td>kan@panda.com</td>\n",
       "    </tr>\n",
       "    <tr>\n",
       "      <td>3</td>\n",
       "      <td>Ram</td>\n",
       "      <td>Jana</td>\n",
       "      <td>33</td>\n",
       "      <td>9.6</td>\n",
       "      <td>ram@panda.com</td>\n",
       "    </tr>\n",
       "  </tbody>\n",
       "</table>\n",
       "</div>"
      ],
      "text/plain": [
       "      fname  lname  age  score          email\n",
       "0  Siddhant   Shah   32    9.1  sid@panda.com\n",
       "1    Manish    Jha   32    8.7  man@panda.com\n",
       "2     Kanai  Murmu   30    8.9  kan@panda.com\n",
       "3       Ram   Jana   33    9.6  ram@panda.com"
      ]
     },
     "execution_count": 11,
     "metadata": {},
     "output_type": "execute_result"
    }
   ],
   "source": [
    "# tail(n): This method accepts a number and returns that number of last rows from dataframe. \n",
    "# Default is 5\n",
    "df.tail()"
   ]
  },
  {
   "cell_type": "code",
   "execution_count": 12,
   "metadata": {},
   "outputs": [
    {
     "data": {
      "text/html": [
       "<div>\n",
       "<style scoped>\n",
       "    .dataframe tbody tr th:only-of-type {\n",
       "        vertical-align: middle;\n",
       "    }\n",
       "\n",
       "    .dataframe tbody tr th {\n",
       "        vertical-align: top;\n",
       "    }\n",
       "\n",
       "    .dataframe thead th {\n",
       "        text-align: right;\n",
       "    }\n",
       "</style>\n",
       "<table border=\"1\" class=\"dataframe\">\n",
       "  <thead>\n",
       "    <tr style=\"text-align: right;\">\n",
       "      <th></th>\n",
       "      <th>age</th>\n",
       "      <th>score</th>\n",
       "    </tr>\n",
       "  </thead>\n",
       "  <tbody>\n",
       "    <tr>\n",
       "      <td>count</td>\n",
       "      <td>4.000000</td>\n",
       "      <td>4.000000</td>\n",
       "    </tr>\n",
       "    <tr>\n",
       "      <td>mean</td>\n",
       "      <td>31.750000</td>\n",
       "      <td>9.075000</td>\n",
       "    </tr>\n",
       "    <tr>\n",
       "      <td>std</td>\n",
       "      <td>1.258306</td>\n",
       "      <td>0.386221</td>\n",
       "    </tr>\n",
       "    <tr>\n",
       "      <td>min</td>\n",
       "      <td>30.000000</td>\n",
       "      <td>8.700000</td>\n",
       "    </tr>\n",
       "    <tr>\n",
       "      <td>25%</td>\n",
       "      <td>31.500000</td>\n",
       "      <td>8.850000</td>\n",
       "    </tr>\n",
       "    <tr>\n",
       "      <td>50%</td>\n",
       "      <td>32.000000</td>\n",
       "      <td>9.000000</td>\n",
       "    </tr>\n",
       "    <tr>\n",
       "      <td>75%</td>\n",
       "      <td>32.250000</td>\n",
       "      <td>9.225000</td>\n",
       "    </tr>\n",
       "    <tr>\n",
       "      <td>max</td>\n",
       "      <td>33.000000</td>\n",
       "      <td>9.600000</td>\n",
       "    </tr>\n",
       "  </tbody>\n",
       "</table>\n",
       "</div>"
      ],
      "text/plain": [
       "             age     score\n",
       "count   4.000000  4.000000\n",
       "mean   31.750000  9.075000\n",
       "std     1.258306  0.386221\n",
       "min    30.000000  8.700000\n",
       "25%    31.500000  8.850000\n",
       "50%    32.000000  9.000000\n",
       "75%    32.250000  9.225000\n",
       "max    33.000000  9.600000"
      ]
     },
     "execution_count": 12,
     "metadata": {},
     "output_type": "execute_result"
    }
   ],
   "source": [
    "# describe(): This method returns a new dataframe depicting statistics of the numerical columns \n",
    "# of current dataframe. \n",
    "df.describe()"
   ]
  },
  {
   "cell_type": "code",
   "execution_count": 13,
   "metadata": {},
   "outputs": [
    {
     "data": {
      "text/plain": [
       "fname                               SiddhantManishKanaiRam\n",
       "lname                                     ShahJhaMurmuJana\n",
       "age                                                    127\n",
       "score                                                 36.3\n",
       "email    sid@panda.comman@panda.comkan@panda.comram@pan...\n",
       "dtype: object"
      ]
     },
     "execution_count": 13,
     "metadata": {},
     "output_type": "execute_result"
    }
   ],
   "source": [
    "# sum(): This method returns a series with index being the column name and values being the sum of all the \n",
    "# value for that particular column. For numerical column, the data is added and for object(string) column, \n",
    "# data is concatenated.\n",
    "df.sum()"
   ]
  },
  {
   "cell_type": "code",
   "execution_count": 14,
   "metadata": {},
   "outputs": [
    {
     "data": {
      "text/plain": [
       "age      31.750\n",
       "score     9.075\n",
       "dtype: float64"
      ]
     },
     "execution_count": 14,
     "metadata": {},
     "output_type": "execute_result"
    }
   ],
   "source": [
    "# mean(): This method returns a series with index being the numerical column name and values being the mean of \n",
    "# data numerical column. Colums with datatypes as object(string) are ignored.\n",
    "df.mean()"
   ]
  },
  {
   "cell_type": "code",
   "execution_count": 15,
   "metadata": {},
   "outputs": [
    {
     "data": {
      "text/plain": [
       "age      1.258306\n",
       "score    0.386221\n",
       "dtype: float64"
      ]
     },
     "execution_count": 15,
     "metadata": {},
     "output_type": "execute_result"
    }
   ],
   "source": [
    "# std(): This method returns a series with index being the numerical column name and values being the \n",
    "# Standard Deviation of data numerical column. Colums with datatypes as object(string) are ignored.\n",
    "df.std()"
   ]
  },
  {
   "cell_type": "code",
   "execution_count": 16,
   "metadata": {},
   "outputs": [
    {
     "data": {
      "text/plain": [
       "fname    4\n",
       "lname    4\n",
       "age      4\n",
       "score    4\n",
       "email    4\n",
       "dtype: int64"
      ]
     },
     "execution_count": 16,
     "metadata": {},
     "output_type": "execute_result"
    }
   ],
   "source": [
    "# count(): This method returns series with index being the column name and values being the number of non-null\n",
    "# elements in that column\n",
    "df.count()"
   ]
  },
  {
   "cell_type": "code",
   "execution_count": 17,
   "metadata": {},
   "outputs": [],
   "source": [
    "# Simillar to this we have other statistical method like mode(), min(), max(), median(0 and few more)"
   ]
  }
 ],
 "metadata": {
  "kernelspec": {
   "display_name": "Python 3",
   "language": "python",
   "name": "python3"
  },
  "language_info": {
   "codemirror_mode": {
    "name": "ipython",
    "version": 3
   },
   "file_extension": ".py",
   "mimetype": "text/x-python",
   "name": "python",
   "nbconvert_exporter": "python",
   "pygments_lexer": "ipython3",
   "version": "3.7.4"
  }
 },
 "nbformat": 4,
 "nbformat_minor": 2
}
