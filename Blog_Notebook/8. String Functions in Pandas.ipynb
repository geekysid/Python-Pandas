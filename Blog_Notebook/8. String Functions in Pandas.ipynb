{
 "cells": [
  {
   "cell_type": "code",
   "execution_count": 1,
   "metadata": {},
   "outputs": [
    {
     "data": {
      "text/html": [
       "<div>\n",
       "<style scoped>\n",
       "    .dataframe tbody tr th:only-of-type {\n",
       "        vertical-align: middle;\n",
       "    }\n",
       "\n",
       "    .dataframe tbody tr th {\n",
       "        vertical-align: top;\n",
       "    }\n",
       "\n",
       "    .dataframe thead th {\n",
       "        text-align: right;\n",
       "    }\n",
       "</style>\n",
       "<table border=\"1\" class=\"dataframe\">\n",
       "  <thead>\n",
       "    <tr style=\"text-align: right;\">\n",
       "      <th></th>\n",
       "      <th>Hobbyist</th>\n",
       "      <th>Country</th>\n",
       "      <th>Student</th>\n",
       "      <th>YearsCode</th>\n",
       "      <th>ConvertedComp</th>\n",
       "      <th>LanguageWorkedWith</th>\n",
       "      <th>Age</th>\n",
       "      <th>Gender</th>\n",
       "    </tr>\n",
       "    <tr>\n",
       "      <th>Respondent</th>\n",
       "      <th></th>\n",
       "      <th></th>\n",
       "      <th></th>\n",
       "      <th></th>\n",
       "      <th></th>\n",
       "      <th></th>\n",
       "      <th></th>\n",
       "      <th></th>\n",
       "    </tr>\n",
       "  </thead>\n",
       "  <tbody>\n",
       "    <tr>\n",
       "      <td>1</td>\n",
       "      <td>Yes</td>\n",
       "      <td>United Kingdom</td>\n",
       "      <td>No</td>\n",
       "      <td>4</td>\n",
       "      <td>NaN</td>\n",
       "      <td>HTML/CSS;Java;JavaScript;Python</td>\n",
       "      <td>14.0</td>\n",
       "      <td>Man</td>\n",
       "    </tr>\n",
       "    <tr>\n",
       "      <td>2</td>\n",
       "      <td>No</td>\n",
       "      <td>Bosnia and Herzegovina</td>\n",
       "      <td>Yes, full-time</td>\n",
       "      <td>NaN</td>\n",
       "      <td>NaN</td>\n",
       "      <td>C++;HTML/CSS;Python</td>\n",
       "      <td>19.0</td>\n",
       "      <td>Man</td>\n",
       "    </tr>\n",
       "    <tr>\n",
       "      <td>3</td>\n",
       "      <td>Yes</td>\n",
       "      <td>Thailand</td>\n",
       "      <td>No</td>\n",
       "      <td>3</td>\n",
       "      <td>8820.0</td>\n",
       "      <td>HTML/CSS</td>\n",
       "      <td>28.0</td>\n",
       "      <td>Man</td>\n",
       "    </tr>\n",
       "    <tr>\n",
       "      <td>4</td>\n",
       "      <td>No</td>\n",
       "      <td>United States</td>\n",
       "      <td>No</td>\n",
       "      <td>3</td>\n",
       "      <td>61000.0</td>\n",
       "      <td>C;C++;C#;Python;SQL</td>\n",
       "      <td>22.0</td>\n",
       "      <td>Man</td>\n",
       "    </tr>\n",
       "    <tr>\n",
       "      <td>5</td>\n",
       "      <td>Yes</td>\n",
       "      <td>Ukraine</td>\n",
       "      <td>No</td>\n",
       "      <td>16</td>\n",
       "      <td>NaN</td>\n",
       "      <td>C++;HTML/CSS;Java;JavaScript;Python;SQL;VBA</td>\n",
       "      <td>30.0</td>\n",
       "      <td>Man</td>\n",
       "    </tr>\n",
       "    <tr>\n",
       "      <td>...</td>\n",
       "      <td>...</td>\n",
       "      <td>...</td>\n",
       "      <td>...</td>\n",
       "      <td>...</td>\n",
       "      <td>...</td>\n",
       "      <td>...</td>\n",
       "      <td>...</td>\n",
       "      <td>...</td>\n",
       "    </tr>\n",
       "    <tr>\n",
       "      <td>88377</td>\n",
       "      <td>Yes</td>\n",
       "      <td>Canada</td>\n",
       "      <td>No</td>\n",
       "      <td>NaN</td>\n",
       "      <td>NaN</td>\n",
       "      <td>HTML/CSS;JavaScript;Other(s):</td>\n",
       "      <td>NaN</td>\n",
       "      <td>Man</td>\n",
       "    </tr>\n",
       "    <tr>\n",
       "      <td>88601</td>\n",
       "      <td>No</td>\n",
       "      <td>NaN</td>\n",
       "      <td>NaN</td>\n",
       "      <td>NaN</td>\n",
       "      <td>NaN</td>\n",
       "      <td>NaN</td>\n",
       "      <td>NaN</td>\n",
       "      <td>NaN</td>\n",
       "    </tr>\n",
       "    <tr>\n",
       "      <td>88802</td>\n",
       "      <td>No</td>\n",
       "      <td>NaN</td>\n",
       "      <td>NaN</td>\n",
       "      <td>NaN</td>\n",
       "      <td>NaN</td>\n",
       "      <td>NaN</td>\n",
       "      <td>NaN</td>\n",
       "      <td>NaN</td>\n",
       "    </tr>\n",
       "    <tr>\n",
       "      <td>88816</td>\n",
       "      <td>No</td>\n",
       "      <td>NaN</td>\n",
       "      <td>NaN</td>\n",
       "      <td>NaN</td>\n",
       "      <td>NaN</td>\n",
       "      <td>NaN</td>\n",
       "      <td>NaN</td>\n",
       "      <td>NaN</td>\n",
       "    </tr>\n",
       "    <tr>\n",
       "      <td>88863</td>\n",
       "      <td>Yes</td>\n",
       "      <td>Spain</td>\n",
       "      <td>Yes, full-time</td>\n",
       "      <td>8</td>\n",
       "      <td>NaN</td>\n",
       "      <td>Bash/Shell/PowerShell;HTML/CSS;Java;JavaScript...</td>\n",
       "      <td>18.0</td>\n",
       "      <td>Man</td>\n",
       "    </tr>\n",
       "  </tbody>\n",
       "</table>\n",
       "<p>88883 rows × 8 columns</p>\n",
       "</div>"
      ],
      "text/plain": [
       "           Hobbyist                 Country         Student YearsCode  \\\n",
       "Respondent                                                              \n",
       "1               Yes          United Kingdom              No         4   \n",
       "2                No  Bosnia and Herzegovina  Yes, full-time       NaN   \n",
       "3               Yes                Thailand              No         3   \n",
       "4                No           United States              No         3   \n",
       "5               Yes                 Ukraine              No        16   \n",
       "...             ...                     ...             ...       ...   \n",
       "88377           Yes                  Canada              No       NaN   \n",
       "88601            No                     NaN             NaN       NaN   \n",
       "88802            No                     NaN             NaN       NaN   \n",
       "88816            No                     NaN             NaN       NaN   \n",
       "88863           Yes                   Spain  Yes, full-time         8   \n",
       "\n",
       "            ConvertedComp                                 LanguageWorkedWith  \\\n",
       "Respondent                                                                     \n",
       "1                     NaN                    HTML/CSS;Java;JavaScript;Python   \n",
       "2                     NaN                                C++;HTML/CSS;Python   \n",
       "3                  8820.0                                           HTML/CSS   \n",
       "4                 61000.0                                C;C++;C#;Python;SQL   \n",
       "5                     NaN        C++;HTML/CSS;Java;JavaScript;Python;SQL;VBA   \n",
       "...                   ...                                                ...   \n",
       "88377                 NaN                      HTML/CSS;JavaScript;Other(s):   \n",
       "88601                 NaN                                                NaN   \n",
       "88802                 NaN                                                NaN   \n",
       "88816                 NaN                                                NaN   \n",
       "88863                 NaN  Bash/Shell/PowerShell;HTML/CSS;Java;JavaScript...   \n",
       "\n",
       "             Age Gender  \n",
       "Respondent               \n",
       "1           14.0    Man  \n",
       "2           19.0    Man  \n",
       "3           28.0    Man  \n",
       "4           22.0    Man  \n",
       "5           30.0    Man  \n",
       "...          ...    ...  \n",
       "88377        NaN    Man  \n",
       "88601        NaN    NaN  \n",
       "88802        NaN    NaN  \n",
       "88816        NaN    NaN  \n",
       "88863       18.0    Man  \n",
       "\n",
       "[88883 rows x 8 columns]"
      ]
     },
     "execution_count": 1,
     "metadata": {},
     "output_type": "execute_result"
    }
   ],
   "source": [
    "import pandas as pd\n",
    "file = 'Data/Survey.csv'\n",
    "df = pd.read_csv(file, index_col=\"Respondent\", \n",
    "                 usecols=[\"Respondent\", \"Hobbyist\", \"Country\", \n",
    "                          \"Student\", \"YearsCode\", \"ConvertedComp\", \n",
    "                          \"LanguageWorkedWith\", \"Age\", \"Gender\"])\n",
    "df"
   ]
  },
  {
   "cell_type": "code",
   "execution_count": 2,
   "metadata": {},
   "outputs": [
    {
     "data": {
      "text/plain": [
       "Respondent\n",
       "1                  [HTML/CSS, Java, JavaScript, Python]\n",
       "2                               [C++, HTML/CSS, Python]\n",
       "3                                            [HTML/CSS]\n",
       "4                             [C, C++, C#, Python, SQL]\n",
       "5     [C++, HTML/CSS, Java, JavaScript, Python, SQL,...\n",
       "6                                        [Java, R, SQL]\n",
       "7                                [HTML/CSS, JavaScript]\n",
       "8     [Bash/Shell/PowerShell, C, C++, HTML/CSS, Java...\n",
       "9     [Bash/Shell/PowerShell, C#, HTML/CSS, JavaScri...\n",
       "10                 [C#, Go, JavaScript, Python, R, SQL]\n",
       "Name: LanguageWorkedWith, dtype: object"
      ]
     },
     "execution_count": 2,
     "metadata": {},
     "output_type": "execute_result"
    }
   ],
   "source": [
    "# Splitting every language in column 'LanguageWorkedWith' using split()\n",
    "language = df['LanguageWorkedWith'].str.split(';')\n",
    "language.head(10)"
   ]
  },
  {
   "cell_type": "code",
   "execution_count": 3,
   "metadata": {},
   "outputs": [
    {
     "data": {
      "text/plain": [
       "Respondent\n",
       "1                   [HTML/CSS, Java, JavaScript;Python]\n",
       "2                               [C++, HTML/CSS, Python]\n",
       "3                                            [HTML/CSS]\n",
       "4                               [C, C++, C#;Python;SQL]\n",
       "5       [C++, HTML/CSS, Java;JavaScript;Python;SQL;VBA]\n",
       "6                                        [Java, R, SQL]\n",
       "7                                [HTML/CSS, JavaScript]\n",
       "8     [Bash/Shell/PowerShell, C, C++;HTML/CSS;Java;J...\n",
       "9     [Bash/Shell/PowerShell, C#, HTML/CSS;JavaScrip...\n",
       "10                    [C#, Go, JavaScript;Python;R;SQL]\n",
       "Name: LanguageWorkedWith, dtype: object"
      ]
     },
     "execution_count": 3,
     "metadata": {},
     "output_type": "execute_result"
    }
   ],
   "source": [
    "# Splitting 'LanguageWorkedWith' column 2 times\n",
    "language = df['LanguageWorkedWith'].str.split(';', n=2)\n",
    "language.head(10)"
   ]
  },
  {
   "cell_type": "code",
   "execution_count": 4,
   "metadata": {},
   "outputs": [
    {
     "data": {
      "text/html": [
       "<div>\n",
       "<style scoped>\n",
       "    .dataframe tbody tr th:only-of-type {\n",
       "        vertical-align: middle;\n",
       "    }\n",
       "\n",
       "    .dataframe tbody tr th {\n",
       "        vertical-align: top;\n",
       "    }\n",
       "\n",
       "    .dataframe thead th {\n",
       "        text-align: right;\n",
       "    }\n",
       "</style>\n",
       "<table border=\"1\" class=\"dataframe\">\n",
       "  <thead>\n",
       "    <tr style=\"text-align: right;\">\n",
       "      <th></th>\n",
       "      <th>0</th>\n",
       "      <th>1</th>\n",
       "      <th>2</th>\n",
       "      <th>3</th>\n",
       "      <th>4</th>\n",
       "      <th>5</th>\n",
       "      <th>6</th>\n",
       "      <th>7</th>\n",
       "      <th>8</th>\n",
       "    </tr>\n",
       "    <tr>\n",
       "      <th>Respondent</th>\n",
       "      <th></th>\n",
       "      <th></th>\n",
       "      <th></th>\n",
       "      <th></th>\n",
       "      <th></th>\n",
       "      <th></th>\n",
       "      <th></th>\n",
       "      <th></th>\n",
       "      <th></th>\n",
       "    </tr>\n",
       "  </thead>\n",
       "  <tbody>\n",
       "    <tr>\n",
       "      <td>1</td>\n",
       "      <td>HTML/CSS</td>\n",
       "      <td>Java</td>\n",
       "      <td>JavaScript</td>\n",
       "      <td>Python</td>\n",
       "      <td>None</td>\n",
       "      <td>None</td>\n",
       "      <td>None</td>\n",
       "      <td>None</td>\n",
       "      <td>None</td>\n",
       "    </tr>\n",
       "    <tr>\n",
       "      <td>2</td>\n",
       "      <td>C++</td>\n",
       "      <td>HTML/CSS</td>\n",
       "      <td>Python</td>\n",
       "      <td>None</td>\n",
       "      <td>None</td>\n",
       "      <td>None</td>\n",
       "      <td>None</td>\n",
       "      <td>None</td>\n",
       "      <td>None</td>\n",
       "    </tr>\n",
       "    <tr>\n",
       "      <td>3</td>\n",
       "      <td>HTML/CSS</td>\n",
       "      <td>None</td>\n",
       "      <td>None</td>\n",
       "      <td>None</td>\n",
       "      <td>None</td>\n",
       "      <td>None</td>\n",
       "      <td>None</td>\n",
       "      <td>None</td>\n",
       "      <td>None</td>\n",
       "    </tr>\n",
       "    <tr>\n",
       "      <td>4</td>\n",
       "      <td>C</td>\n",
       "      <td>C++</td>\n",
       "      <td>C#</td>\n",
       "      <td>Python</td>\n",
       "      <td>SQL</td>\n",
       "      <td>None</td>\n",
       "      <td>None</td>\n",
       "      <td>None</td>\n",
       "      <td>None</td>\n",
       "    </tr>\n",
       "    <tr>\n",
       "      <td>5</td>\n",
       "      <td>C++</td>\n",
       "      <td>HTML/CSS</td>\n",
       "      <td>Java</td>\n",
       "      <td>JavaScript</td>\n",
       "      <td>Python</td>\n",
       "      <td>SQL</td>\n",
       "      <td>VBA</td>\n",
       "      <td>None</td>\n",
       "      <td>None</td>\n",
       "    </tr>\n",
       "    <tr>\n",
       "      <td>6</td>\n",
       "      <td>Java</td>\n",
       "      <td>R</td>\n",
       "      <td>SQL</td>\n",
       "      <td>None</td>\n",
       "      <td>None</td>\n",
       "      <td>None</td>\n",
       "      <td>None</td>\n",
       "      <td>None</td>\n",
       "      <td>None</td>\n",
       "    </tr>\n",
       "    <tr>\n",
       "      <td>7</td>\n",
       "      <td>HTML/CSS</td>\n",
       "      <td>JavaScript</td>\n",
       "      <td>None</td>\n",
       "      <td>None</td>\n",
       "      <td>None</td>\n",
       "      <td>None</td>\n",
       "      <td>None</td>\n",
       "      <td>None</td>\n",
       "      <td>None</td>\n",
       "    </tr>\n",
       "    <tr>\n",
       "      <td>8</td>\n",
       "      <td>Bash/Shell/PowerShell</td>\n",
       "      <td>C</td>\n",
       "      <td>C++</td>\n",
       "      <td>HTML/CSS</td>\n",
       "      <td>Java</td>\n",
       "      <td>JavaScript</td>\n",
       "      <td>Python</td>\n",
       "      <td>SQL</td>\n",
       "      <td>None</td>\n",
       "    </tr>\n",
       "    <tr>\n",
       "      <td>9</td>\n",
       "      <td>Bash/Shell/PowerShell</td>\n",
       "      <td>C#</td>\n",
       "      <td>HTML/CSS</td>\n",
       "      <td>JavaScript</td>\n",
       "      <td>Python</td>\n",
       "      <td>Ruby</td>\n",
       "      <td>Rust</td>\n",
       "      <td>SQL</td>\n",
       "      <td>TypeScript;WebAssembly;Other(s):</td>\n",
       "    </tr>\n",
       "    <tr>\n",
       "      <td>10</td>\n",
       "      <td>C#</td>\n",
       "      <td>Go</td>\n",
       "      <td>JavaScript</td>\n",
       "      <td>Python</td>\n",
       "      <td>R</td>\n",
       "      <td>SQL</td>\n",
       "      <td>None</td>\n",
       "      <td>None</td>\n",
       "      <td>None</td>\n",
       "    </tr>\n",
       "  </tbody>\n",
       "</table>\n",
       "</div>"
      ],
      "text/plain": [
       "                                0           1           2           3       4  \\\n",
       "Respondent                                                                      \n",
       "1                        HTML/CSS        Java  JavaScript      Python    None   \n",
       "2                             C++    HTML/CSS      Python        None    None   \n",
       "3                        HTML/CSS        None        None        None    None   \n",
       "4                               C         C++          C#      Python     SQL   \n",
       "5                             C++    HTML/CSS        Java  JavaScript  Python   \n",
       "6                            Java           R         SQL        None    None   \n",
       "7                        HTML/CSS  JavaScript        None        None    None   \n",
       "8           Bash/Shell/PowerShell           C         C++    HTML/CSS    Java   \n",
       "9           Bash/Shell/PowerShell          C#    HTML/CSS  JavaScript  Python   \n",
       "10                             C#          Go  JavaScript      Python       R   \n",
       "\n",
       "                     5       6     7                                 8  \n",
       "Respondent                                                              \n",
       "1                 None    None  None                              None  \n",
       "2                 None    None  None                              None  \n",
       "3                 None    None  None                              None  \n",
       "4                 None    None  None                              None  \n",
       "5                  SQL     VBA  None                              None  \n",
       "6                 None    None  None                              None  \n",
       "7                 None    None  None                              None  \n",
       "8           JavaScript  Python   SQL                              None  \n",
       "9                 Ruby    Rust   SQL  TypeScript;WebAssembly;Other(s):  \n",
       "10                 SQL    None  None                              None  "
      ]
     },
     "execution_count": 4,
     "metadata": {},
     "output_type": "execute_result"
    }
   ],
   "source": [
    "# Splitting 'LanguageWorkedWith' 3 times and expanding list to Dataframe\n",
    "language = df['LanguageWorkedWith'].str.split(';', n=8, expand=True)\n",
    "language.head(10)"
   ]
  },
  {
   "cell_type": "code",
   "execution_count": 5,
   "metadata": {},
   "outputs": [
    {
     "data": {
      "text/plain": [
       "Respondent\n",
       "1             UNITED KINGDOM\n",
       "2     BOSNIA AND HERZEGOVINA\n",
       "3                   THAILAND\n",
       "4              UNITED STATES\n",
       "5                    UKRAINE\n",
       "6                     CANADA\n",
       "7                    UKRAINE\n",
       "8                      INDIA\n",
       "9                NEW ZEALAND\n",
       "10                     INDIA\n",
       "Name: Country, dtype: object"
      ]
     },
     "execution_count": 5,
     "metadata": {},
     "output_type": "execute_result"
    }
   ],
   "source": [
    "# upper() => converting string to uppercase\n",
    "upper = df['Country'].str.upper()\n",
    "upper.head(10)"
   ]
  },
  {
   "cell_type": "code",
   "execution_count": 6,
   "metadata": {},
   "outputs": [
    {
     "data": {
      "text/plain": [
       "Respondent\n",
       "1             UNITED KINGDOM\n",
       "2     BOSNIA AND HERZEGOVINA\n",
       "3                   THAILAND\n",
       "4              UNITED STATES\n",
       "5                    UKRAINE\n",
       "6                     CANADA\n",
       "7                    UKRAINE\n",
       "8                      INDIA\n",
       "9                NEW ZEALAND\n",
       "10                     INDIA\n",
       "Name: Country, dtype: object"
      ]
     },
     "execution_count": 6,
     "metadata": {},
     "output_type": "execute_result"
    }
   ],
   "source": [
    "# lower() => converting string to lowercase\n",
    "lower = df['Country'].str.upper()\n",
    "lower.head(10)"
   ]
  },
  {
   "cell_type": "code",
   "execution_count": 7,
   "metadata": {},
   "outputs": [
    {
     "data": {
      "text/plain": [
       "Respondent\n",
       "1             uNITED kINGDOM\n",
       "2     bOSNIA AND hERZEGOVINA\n",
       "3                   tHAILAND\n",
       "4              uNITED sTATES\n",
       "5                    uKRAINE\n",
       "6                     cANADA\n",
       "7                    uKRAINE\n",
       "8                      iNDIA\n",
       "9                nEW zEALAND\n",
       "10                     iNDIA\n",
       "Name: Country, dtype: object"
      ]
     },
     "execution_count": 7,
     "metadata": {},
     "output_type": "execute_result"
    }
   ],
   "source": [
    "# swapcase() => swapping case of the string. \n",
    "swap = df['Country'].str.swapcase()\n",
    "swap.head(10)"
   ]
  },
  {
   "cell_type": "code",
   "execution_count": 8,
   "metadata": {},
   "outputs": [
    {
     "data": {
      "text/plain": [
       "Respondent\n",
       "1             United Kingdom\n",
       "2     Bosnia And Herzegovina\n",
       "3                   Thailand\n",
       "4              United States\n",
       "5                    Ukraine\n",
       "6                     Canada\n",
       "7                    Ukraine\n",
       "8                      India\n",
       "9                New Zealand\n",
       "10                     India\n",
       "Name: Country, dtype: object"
      ]
     },
     "execution_count": 8,
     "metadata": {},
     "output_type": "execute_result"
    }
   ],
   "source": [
    "# title() => making string into title case. \n",
    "title = df['Country'].str.title()\n",
    "title.head(10)"
   ]
  },
  {
   "cell_type": "code",
   "execution_count": 9,
   "metadata": {},
   "outputs": [
    {
     "data": {
      "text/plain": [
       "Respondent\n",
       "1                         ML/CSS;Java;JavaScript;Python\n",
       "2                                   C++;HTML/CSS;Python\n",
       "3                                                ML/CSS\n",
       "4                                   C;C++;C#;Python;SQL\n",
       "5           C++;HTML/CSS;Java;JavaScript;Python;SQL;VBA\n",
       "6                                            Java;R;SQL\n",
       "7                                     ML/CSS;JavaScript\n",
       "8     Bash/Shell/PowerShell;C;C++;HTML/CSS;Java;Java...\n",
       "9     Bash/Shell/PowerShell;C#;HTML/CSS;JavaScript;P...\n",
       "10                        C#;Go;JavaScript;Python;R;SQL\n",
       "Name: LanguageWorkedWith, dtype: object"
      ]
     },
     "execution_count": 9,
     "metadata": {},
     "output_type": "execute_result"
    }
   ],
   "source": [
    "# strip(): Used to strip characters passd as an argument from starting and ending of string.\n",
    "# If nothing is passed as parameter the default value of ' ' is used.\n",
    "\n",
    "# strips characters \"HT\" from the start and end of string\n",
    "strip = df['LanguageWorkedWith'].str.strip(\"HT\")\n",
    "strip.head(10)"
   ]
  },
  {
   "cell_type": "code",
   "execution_count": 10,
   "metadata": {},
   "outputs": [
    {
     "data": {
      "text/plain": [
       "Respondent\n",
       "1                         HTML/CSS;Java;JavaScript;Pyth\n",
       "2                                     C++;HTML/CSS;Pyth\n",
       "3                                              HTML/CSS\n",
       "4                                   C;C++;C#;Python;SQL\n",
       "5           C++;HTML/CSS;Java;JavaScript;Python;SQL;VBA\n",
       "6                                            Java;R;SQL\n",
       "7                                   HTML/CSS;JavaScript\n",
       "8     Bash/Shell/PowerShell;C;C++;HTML/CSS;Java;Java...\n",
       "9     Bash/Shell/PowerShell;C#;HTML/CSS;JavaScript;P...\n",
       "10                        C#;Go;JavaScript;Python;R;SQL\n",
       "Name: LanguageWorkedWith, dtype: object"
      ]
     },
     "execution_count": 10,
     "metadata": {},
     "output_type": "execute_result"
    }
   ],
   "source": [
    "# rstrip(): Used to strip characters passd as an argument from the end of string.\n",
    "# If nothing is passed as parameter the default value of ' ' is used.\n",
    "\n",
    "# strips characters \"HT\" from the end of string\n",
    "rstrip = df['LanguageWorkedWith'].str.rstrip(\"on\")\n",
    "rstrip.head(10)"
   ]
  },
  {
   "cell_type": "code",
   "execution_count": 11,
   "metadata": {},
   "outputs": [
    {
     "data": {
      "text/plain": [
       "Respondent\n",
       "1                         ML/CSS;Java;JavaScript;Python\n",
       "2                                   C++;HTML/CSS;Python\n",
       "3                                                ML/CSS\n",
       "4                                   C;C++;C#;Python;SQL\n",
       "5           C++;HTML/CSS;Java;JavaScript;Python;SQL;VBA\n",
       "6                                            Java;R;SQL\n",
       "7                                     ML/CSS;JavaScript\n",
       "8     Bash/Shell/PowerShell;C;C++;HTML/CSS;Java;Java...\n",
       "9     Bash/Shell/PowerShell;C#;HTML/CSS;JavaScript;P...\n",
       "10                        C#;Go;JavaScript;Python;R;SQL\n",
       "Name: LanguageWorkedWith, dtype: object"
      ]
     },
     "execution_count": 11,
     "metadata": {},
     "output_type": "execute_result"
    }
   ],
   "source": [
    "# lstrip(): Used to strip characters passd as an argument from the start of string.\n",
    "# If nothing is passed as parameter the default value of ' ' is used.\n",
    "\n",
    "# strips characters \"HT\" from the start of string\n",
    "lstrip = df['LanguageWorkedWith'].str.lstrip(\"HT\")\n",
    "lstrip.head(10)"
   ]
  },
  {
   "cell_type": "code",
   "execution_count": 12,
   "metadata": {},
   "outputs": [
    {
     "name": "stdout",
     "output_type": "stream",
     "text": [
      "Before Replace: \n",
      " Respondent\n",
      "1     Man\n",
      "2     Man\n",
      "3     Man\n",
      "4     Man\n",
      "5     Man\n",
      "6     Man\n",
      "7     Man\n",
      "8     Man\n",
      "9     Man\n",
      "10    NaN\n",
      "Name: Gender, dtype: object\n",
      "\n",
      "After Replace: \n",
      " Respondent\n",
      "1     Male\n",
      "2     Male\n",
      "3     Male\n",
      "4     Male\n",
      "5     Male\n",
      "6     Male\n",
      "7     Male\n",
      "8     Male\n",
      "9     Male\n",
      "10     NaN\n",
      "Name: Gender, dtype: object\n"
     ]
    }
   ],
   "source": [
    "# replace(): to replaces the string passed as the first argument in the \n",
    "# function with the string passed as the second argument of this function.\n",
    "\n",
    "# rplace Man with Male\n",
    "print(\"Before Replace: \\n\", df['Gender'].head(10))\n",
    "replace = df['Gender'].str.replace(\"Man\", \"Male\")\n",
    "print()\n",
    "print(\"After Replace: \\n\", replace.head(10))"
   ]
  },
  {
   "cell_type": "code",
   "execution_count": 13,
   "metadata": {},
   "outputs": [
    {
     "data": {
      "text/plain": [
       "Respondent\n",
       "1    Uni\n",
       "2    Bos\n",
       "3    Tha\n",
       "4    Uni\n",
       "5    Ukr\n",
       "Name: Country, dtype: object"
      ]
     },
     "execution_count": 13,
     "metadata": {},
     "output_type": "execute_result"
    }
   ],
   "source": [
    "# slice(): special function which is used to truncate the string in the column\n",
    "# Trancate country columns to 3 characters\n",
    "slice = df['Country'].str.slice(start=0, stop=3)\n",
    "slice.head(5)"
   ]
  },
  {
   "cell_type": "code",
   "execution_count": 14,
   "metadata": {},
   "outputs": [
    {
     "data": {
      "text/plain": [
       "Respondent\n",
       "1      Ut no\n",
       "2    Bn deev\n",
       "3        Tin\n",
       "4       Ut a\n",
       "5         Ua\n",
       "Name: Country, dtype: object"
      ]
     },
     "execution_count": 14,
     "metadata": {},
     "output_type": "execute_result"
    }
   ],
   "source": [
    "# Every 3rd character after 1st character\n",
    "slice = df['Country'].str.slice(start=0, stop=-1, step=3) \n",
    "slice.head(5)"
   ]
  },
  {
   "cell_type": "code",
   "execution_count": 22,
   "metadata": {},
   "outputs": [
    {
     "name": "stdout",
     "output_type": "stream",
     "text": [
      "Gender Column \n",
      " Respondent\n",
      "1     True\n",
      "2     True\n",
      "3     True\n",
      "4     True\n",
      "5     True\n",
      "6     True\n",
      "7     True\n",
      "8     True\n",
      "9     True\n",
      "10     NaN\n",
      "Name: Gender, dtype: object\n",
      "\n",
      "Year Column \n",
      " Respondent\n",
      "1     False\n",
      "2       NaN\n",
      "3     False\n",
      "4     False\n",
      "5     False\n",
      "6     False\n",
      "7     False\n",
      "8     False\n",
      "9     False\n",
      "10    False\n",
      "Name: YearsCode, dtype: object\n"
     ]
    }
   ],
   "source": [
    "# isalpha() => eturns True if all characters in a \n",
    "# string of a column are alphabets else returns False\n",
    "\n",
    "alpha = df['Gender'].str.isalpha()\n",
    "print(\"Gender Column \\n\",alpha.head(10))\n",
    "print()\n",
    "alpha2 = df['YearsCode'].str.isalpha()\n",
    "print(\"Year Column \\n\",alpha2.head(10))"
   ]
  },
  {
   "cell_type": "code",
   "execution_count": 23,
   "metadata": {},
   "outputs": [
    {
     "name": "stdout",
     "output_type": "stream",
     "text": [
      "Gender Column \n",
      " Respondent\n",
      "1     False\n",
      "2     False\n",
      "3     False\n",
      "4     False\n",
      "5     False\n",
      "6     False\n",
      "7     False\n",
      "8     False\n",
      "9     False\n",
      "10      NaN\n",
      "Name: Gender, dtype: object\n",
      "\n",
      "Year Column \n",
      " Respondent\n",
      "1     True\n",
      "2      NaN\n",
      "3     True\n",
      "4     True\n",
      "5     True\n",
      "6     True\n",
      "7     True\n",
      "8     True\n",
      "9     True\n",
      "10    True\n",
      "Name: YearsCode, dtype: object\n"
     ]
    }
   ],
   "source": [
    "# isnumeric() => returns True if all characters in a \n",
    "# string of a column are numbers else returns False\n",
    "\n",
    "numeric = df['Gender'].str.isnumeric()\n",
    "print(\"Gender Column \\n\",numeric.head(10))\n",
    "print()\n",
    "numeric2 = df['YearsCode'].str.isnumeric()\n",
    "print(\"Year Column \\n\",numeric2.head(10))"
   ]
  },
  {
   "cell_type": "code",
   "execution_count": 24,
   "metadata": {},
   "outputs": [
    {
     "data": {
      "text/plain": [
       "Respondent\n",
       "1     31.0\n",
       "2     19.0\n",
       "3      8.0\n",
       "4     19.0\n",
       "5     43.0\n",
       "6     10.0\n",
       "7     19.0\n",
       "8     63.0\n",
       "9     98.0\n",
       "10    29.0\n",
       "Name: LanguageWorkedWith, dtype: float64"
      ]
     },
     "execution_count": 24,
     "metadata": {},
     "output_type": "execute_result"
    }
   ],
   "source": [
    "# len() => returns length of string in columns\n",
    "length = df['LanguageWorkedWith'].str.len()\n",
    "length.head(10)"
   ]
  },
  {
   "cell_type": "code",
   "execution_count": null,
   "metadata": {},
   "outputs": [],
   "source": []
  }
 ],
 "metadata": {
  "kernelspec": {
   "display_name": "Python 3",
   "language": "python",
   "name": "python3"
  },
  "language_info": {
   "codemirror_mode": {
    "name": "ipython",
    "version": 3
   },
   "file_extension": ".py",
   "mimetype": "text/x-python",
   "name": "python",
   "nbconvert_exporter": "python",
   "pygments_lexer": "ipython3",
   "version": "3.7.4"
  }
 },
 "nbformat": 4,
 "nbformat_minor": 2
}
